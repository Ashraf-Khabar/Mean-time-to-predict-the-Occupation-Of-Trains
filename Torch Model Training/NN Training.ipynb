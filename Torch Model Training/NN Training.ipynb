{
 "cells": [
  {
   "cell_type": "code",
   "execution_count": 14,
   "metadata": {},
   "outputs": [],
   "source": [
    "import numpy as np \n",
    "import pandas as pd\n",
    "import torch"
   ]
  },
  {
   "cell_type": "markdown",
   "metadata": {},
   "source": [
    "# 1. Loading Data"
   ]
  },
  {
   "cell_type": "code",
   "execution_count": 15,
   "metadata": {},
   "outputs": [
    {
     "data": {
      "text/html": [
       "<div>\n",
       "<style scoped>\n",
       "    .dataframe tbody tr th:only-of-type {\n",
       "        vertical-align: middle;\n",
       "    }\n",
       "\n",
       "    .dataframe tbody tr th {\n",
       "        vertical-align: top;\n",
       "    }\n",
       "\n",
       "    .dataframe thead th {\n",
       "        text-align: right;\n",
       "    }\n",
       "</style>\n",
       "<table border=\"1\" class=\"dataframe\">\n",
       "  <thead>\n",
       "    <tr style=\"text-align: right;\">\n",
       "      <th></th>\n",
       "      <th>date</th>\n",
       "      <th>train</th>\n",
       "      <th>way</th>\n",
       "      <th>station</th>\n",
       "      <th>hour</th>\n",
       "      <th>composition</th>\n",
       "      <th>p1q0</th>\n",
       "      <th>p2q0</th>\n",
       "      <th>p3q0</th>\n",
       "      <th>p0q1</th>\n",
       "      <th>p0q2</th>\n",
       "      <th>p0q3</th>\n",
       "    </tr>\n",
       "  </thead>\n",
       "  <tbody>\n",
       "    <tr>\n",
       "      <th>0</th>\n",
       "      <td>2019-01-07</td>\n",
       "      <td>1</td>\n",
       "      <td>0</td>\n",
       "      <td>AD</td>\n",
       "      <td>06:00:00</td>\n",
       "      <td>2</td>\n",
       "      <td>NaN</td>\n",
       "      <td>NaN</td>\n",
       "      <td>NaN</td>\n",
       "      <td>0.201</td>\n",
       "      <td>0.138</td>\n",
       "      <td>0.091</td>\n",
       "    </tr>\n",
       "    <tr>\n",
       "      <th>1</th>\n",
       "      <td>2019-01-08</td>\n",
       "      <td>1</td>\n",
       "      <td>0</td>\n",
       "      <td>AD</td>\n",
       "      <td>06:00:00</td>\n",
       "      <td>2</td>\n",
       "      <td>NaN</td>\n",
       "      <td>NaN</td>\n",
       "      <td>NaN</td>\n",
       "      <td>0.204</td>\n",
       "      <td>0.152</td>\n",
       "      <td>0.106</td>\n",
       "    </tr>\n",
       "    <tr>\n",
       "      <th>2</th>\n",
       "      <td>2019-01-10</td>\n",
       "      <td>1</td>\n",
       "      <td>0</td>\n",
       "      <td>AD</td>\n",
       "      <td>06:00:00</td>\n",
       "      <td>2</td>\n",
       "      <td>NaN</td>\n",
       "      <td>NaN</td>\n",
       "      <td>NaN</td>\n",
       "      <td>0.213</td>\n",
       "      <td>0.153</td>\n",
       "      <td>0.111</td>\n",
       "    </tr>\n",
       "    <tr>\n",
       "      <th>3</th>\n",
       "      <td>2019-01-11</td>\n",
       "      <td>1</td>\n",
       "      <td>0</td>\n",
       "      <td>AD</td>\n",
       "      <td>06:00:00</td>\n",
       "      <td>2</td>\n",
       "      <td>NaN</td>\n",
       "      <td>NaN</td>\n",
       "      <td>NaN</td>\n",
       "      <td>0.213</td>\n",
       "      <td>0.152</td>\n",
       "      <td>0.108</td>\n",
       "    </tr>\n",
       "    <tr>\n",
       "      <th>4</th>\n",
       "      <td>2019-01-14</td>\n",
       "      <td>1</td>\n",
       "      <td>0</td>\n",
       "      <td>AD</td>\n",
       "      <td>06:00:00</td>\n",
       "      <td>2</td>\n",
       "      <td>NaN</td>\n",
       "      <td>NaN</td>\n",
       "      <td>NaN</td>\n",
       "      <td>0.210</td>\n",
       "      <td>0.147</td>\n",
       "      <td>0.096</td>\n",
       "    </tr>\n",
       "  </tbody>\n",
       "</table>\n",
       "</div>"
      ],
      "text/plain": [
       "         date  train  way station      hour  composition  p1q0  p2q0  p3q0  \\\n",
       "0  2019-01-07      1    0      AD  06:00:00            2   NaN   NaN   NaN   \n",
       "1  2019-01-08      1    0      AD  06:00:00            2   NaN   NaN   NaN   \n",
       "2  2019-01-10      1    0      AD  06:00:00            2   NaN   NaN   NaN   \n",
       "3  2019-01-11      1    0      AD  06:00:00            2   NaN   NaN   NaN   \n",
       "4  2019-01-14      1    0      AD  06:00:00            2   NaN   NaN   NaN   \n",
       "\n",
       "    p0q1   p0q2   p0q3  \n",
       "0  0.201  0.138  0.091  \n",
       "1  0.204  0.152  0.106  \n",
       "2  0.213  0.153  0.111  \n",
       "3  0.213  0.152  0.108  \n",
       "4  0.210  0.147  0.096  "
      ]
     },
     "execution_count": 15,
     "metadata": {},
     "output_type": "execute_result"
    }
   ],
   "source": [
    "X = pd.read_csv(\"../Xtrain_hgcGIrA.csv\")\n",
    "X.head()"
   ]
  },
  {
   "cell_type": "code",
   "execution_count": 16,
   "metadata": {},
   "outputs": [
    {
     "data": {
      "text/html": [
       "<div>\n",
       "<style scoped>\n",
       "    .dataframe tbody tr th:only-of-type {\n",
       "        vertical-align: middle;\n",
       "    }\n",
       "\n",
       "    .dataframe tbody tr th {\n",
       "        vertical-align: top;\n",
       "    }\n",
       "\n",
       "    .dataframe thead th {\n",
       "        text-align: right;\n",
       "    }\n",
       "</style>\n",
       "<table border=\"1\" class=\"dataframe\">\n",
       "  <thead>\n",
       "    <tr style=\"text-align: right;\">\n",
       "      <th></th>\n",
       "      <th>Unnamed: 0</th>\n",
       "      <th>p0q0</th>\n",
       "    </tr>\n",
       "  </thead>\n",
       "  <tbody>\n",
       "    <tr>\n",
       "      <th>0</th>\n",
       "      <td>1</td>\n",
       "      <td>0.216</td>\n",
       "    </tr>\n",
       "    <tr>\n",
       "      <th>1</th>\n",
       "      <td>2</td>\n",
       "      <td>0.216</td>\n",
       "    </tr>\n",
       "    <tr>\n",
       "      <th>2</th>\n",
       "      <td>3</td>\n",
       "      <td>0.227</td>\n",
       "    </tr>\n",
       "    <tr>\n",
       "      <th>3</th>\n",
       "      <td>4</td>\n",
       "      <td>0.229</td>\n",
       "    </tr>\n",
       "    <tr>\n",
       "      <th>4</th>\n",
       "      <td>5</td>\n",
       "      <td>0.225</td>\n",
       "    </tr>\n",
       "  </tbody>\n",
       "</table>\n",
       "</div>"
      ],
      "text/plain": [
       "   Unnamed: 0   p0q0\n",
       "0           1  0.216\n",
       "1           2  0.216\n",
       "2           3  0.227\n",
       "3           4  0.229\n",
       "4           5  0.225"
      ]
     },
     "execution_count": 16,
     "metadata": {},
     "output_type": "execute_result"
    }
   ],
   "source": [
    "y = pd.read_csv(\"../Ytrain_yL5OjS4.csv\")\n",
    "y.head()"
   ]
  },
  {
   "cell_type": "code",
   "execution_count": 17,
   "metadata": {},
   "outputs": [],
   "source": [
    "y = y.drop(['Unnamed: 0'], axis=1)"
   ]
  },
  {
   "cell_type": "code",
   "execution_count": 18,
   "metadata": {},
   "outputs": [
    {
     "data": {
      "text/html": [
       "<div>\n",
       "<style scoped>\n",
       "    .dataframe tbody tr th:only-of-type {\n",
       "        vertical-align: middle;\n",
       "    }\n",
       "\n",
       "    .dataframe tbody tr th {\n",
       "        vertical-align: top;\n",
       "    }\n",
       "\n",
       "    .dataframe thead th {\n",
       "        text-align: right;\n",
       "    }\n",
       "</style>\n",
       "<table border=\"1\" class=\"dataframe\">\n",
       "  <thead>\n",
       "    <tr style=\"text-align: right;\">\n",
       "      <th></th>\n",
       "      <th>p0q0</th>\n",
       "    </tr>\n",
       "  </thead>\n",
       "  <tbody>\n",
       "    <tr>\n",
       "      <th>0</th>\n",
       "      <td>0.216</td>\n",
       "    </tr>\n",
       "    <tr>\n",
       "      <th>1</th>\n",
       "      <td>0.216</td>\n",
       "    </tr>\n",
       "    <tr>\n",
       "      <th>2</th>\n",
       "      <td>0.227</td>\n",
       "    </tr>\n",
       "    <tr>\n",
       "      <th>3</th>\n",
       "      <td>0.229</td>\n",
       "    </tr>\n",
       "    <tr>\n",
       "      <th>4</th>\n",
       "      <td>0.225</td>\n",
       "    </tr>\n",
       "  </tbody>\n",
       "</table>\n",
       "</div>"
      ],
      "text/plain": [
       "    p0q0\n",
       "0  0.216\n",
       "1  0.216\n",
       "2  0.227\n",
       "3  0.229\n",
       "4  0.225"
      ]
     },
     "execution_count": 18,
     "metadata": {},
     "output_type": "execute_result"
    }
   ],
   "source": [
    "y.head()"
   ]
  },
  {
   "cell_type": "code",
   "execution_count": 19,
   "metadata": {},
   "outputs": [
    {
     "data": {
      "text/plain": [
       "(31119, 1)"
      ]
     },
     "execution_count": 19,
     "metadata": {},
     "output_type": "execute_result"
    }
   ],
   "source": [
    "y.shape"
   ]
  },
  {
   "cell_type": "code",
   "execution_count": 20,
   "metadata": {},
   "outputs": [
    {
     "data": {
      "text/plain": [
       "True"
      ]
     },
     "execution_count": 20,
     "metadata": {},
     "output_type": "execute_result"
    }
   ],
   "source": [
    "any(X[\"hour\"] == \"11:00:00\")"
   ]
  },
  {
   "cell_type": "code",
   "execution_count": 21,
   "metadata": {},
   "outputs": [
    {
     "data": {
      "text/plain": [
       "(31119, 12)"
      ]
     },
     "execution_count": 21,
     "metadata": {},
     "output_type": "execute_result"
    }
   ],
   "source": [
    "# shape of the data \n",
    "X.shape"
   ]
  },
  {
   "cell_type": "code",
   "execution_count": 22,
   "metadata": {},
   "outputs": [
    {
     "data": {
      "text/html": [
       "<div>\n",
       "<style scoped>\n",
       "    .dataframe tbody tr th:only-of-type {\n",
       "        vertical-align: middle;\n",
       "    }\n",
       "\n",
       "    .dataframe tbody tr th {\n",
       "        vertical-align: top;\n",
       "    }\n",
       "\n",
       "    .dataframe thead th {\n",
       "        text-align: right;\n",
       "    }\n",
       "</style>\n",
       "<table border=\"1\" class=\"dataframe\">\n",
       "  <thead>\n",
       "    <tr style=\"text-align: right;\">\n",
       "      <th></th>\n",
       "      <th>date</th>\n",
       "      <th>train</th>\n",
       "      <th>way</th>\n",
       "      <th>station</th>\n",
       "      <th>hour</th>\n",
       "      <th>composition</th>\n",
       "      <th>p1q0</th>\n",
       "      <th>p2q0</th>\n",
       "      <th>p3q0</th>\n",
       "      <th>p0q1</th>\n",
       "      <th>p0q2</th>\n",
       "      <th>p0q3</th>\n",
       "    </tr>\n",
       "  </thead>\n",
       "  <tbody>\n",
       "    <tr>\n",
       "      <th>0</th>\n",
       "      <td>2019-01-07</td>\n",
       "      <td>1</td>\n",
       "      <td>0</td>\n",
       "      <td>AD</td>\n",
       "      <td>06:00:00</td>\n",
       "      <td>2</td>\n",
       "      <td>NaN</td>\n",
       "      <td>NaN</td>\n",
       "      <td>NaN</td>\n",
       "      <td>0.201</td>\n",
       "      <td>0.138</td>\n",
       "      <td>0.091</td>\n",
       "    </tr>\n",
       "    <tr>\n",
       "      <th>1</th>\n",
       "      <td>2019-01-08</td>\n",
       "      <td>1</td>\n",
       "      <td>0</td>\n",
       "      <td>AD</td>\n",
       "      <td>06:00:00</td>\n",
       "      <td>2</td>\n",
       "      <td>NaN</td>\n",
       "      <td>NaN</td>\n",
       "      <td>NaN</td>\n",
       "      <td>0.204</td>\n",
       "      <td>0.152</td>\n",
       "      <td>0.106</td>\n",
       "    </tr>\n",
       "    <tr>\n",
       "      <th>2</th>\n",
       "      <td>2019-01-10</td>\n",
       "      <td>1</td>\n",
       "      <td>0</td>\n",
       "      <td>AD</td>\n",
       "      <td>06:00:00</td>\n",
       "      <td>2</td>\n",
       "      <td>NaN</td>\n",
       "      <td>NaN</td>\n",
       "      <td>NaN</td>\n",
       "      <td>0.213</td>\n",
       "      <td>0.153</td>\n",
       "      <td>0.111</td>\n",
       "    </tr>\n",
       "    <tr>\n",
       "      <th>3</th>\n",
       "      <td>2019-01-11</td>\n",
       "      <td>1</td>\n",
       "      <td>0</td>\n",
       "      <td>AD</td>\n",
       "      <td>06:00:00</td>\n",
       "      <td>2</td>\n",
       "      <td>NaN</td>\n",
       "      <td>NaN</td>\n",
       "      <td>NaN</td>\n",
       "      <td>0.213</td>\n",
       "      <td>0.152</td>\n",
       "      <td>0.108</td>\n",
       "    </tr>\n",
       "    <tr>\n",
       "      <th>4</th>\n",
       "      <td>2019-01-14</td>\n",
       "      <td>1</td>\n",
       "      <td>0</td>\n",
       "      <td>AD</td>\n",
       "      <td>06:00:00</td>\n",
       "      <td>2</td>\n",
       "      <td>NaN</td>\n",
       "      <td>NaN</td>\n",
       "      <td>NaN</td>\n",
       "      <td>0.210</td>\n",
       "      <td>0.147</td>\n",
       "      <td>0.096</td>\n",
       "    </tr>\n",
       "  </tbody>\n",
       "</table>\n",
       "</div>"
      ],
      "text/plain": [
       "         date  train  way station      hour  composition  p1q0  p2q0  p3q0  \\\n",
       "0  2019-01-07      1    0      AD  06:00:00            2   NaN   NaN   NaN   \n",
       "1  2019-01-08      1    0      AD  06:00:00            2   NaN   NaN   NaN   \n",
       "2  2019-01-10      1    0      AD  06:00:00            2   NaN   NaN   NaN   \n",
       "3  2019-01-11      1    0      AD  06:00:00            2   NaN   NaN   NaN   \n",
       "4  2019-01-14      1    0      AD  06:00:00            2   NaN   NaN   NaN   \n",
       "\n",
       "    p0q1   p0q2   p0q3  \n",
       "0  0.201  0.138  0.091  \n",
       "1  0.204  0.152  0.106  \n",
       "2  0.213  0.153  0.111  \n",
       "3  0.213  0.152  0.108  \n",
       "4  0.210  0.147  0.096  "
      ]
     },
     "execution_count": 22,
     "metadata": {},
     "output_type": "execute_result"
    }
   ],
   "source": [
    "X.head()"
   ]
  },
  {
   "cell_type": "code",
   "execution_count": 23,
   "metadata": {},
   "outputs": [],
   "source": [
    "X_test = pd.read_csv(\"../Xtest.csv\")"
   ]
  },
  {
   "cell_type": "code",
   "execution_count": 24,
   "metadata": {},
   "outputs": [
    {
     "data": {
      "text/html": [
       "<div>\n",
       "<style scoped>\n",
       "    .dataframe tbody tr th:only-of-type {\n",
       "        vertical-align: middle;\n",
       "    }\n",
       "\n",
       "    .dataframe tbody tr th {\n",
       "        vertical-align: top;\n",
       "    }\n",
       "\n",
       "    .dataframe thead th {\n",
       "        text-align: right;\n",
       "    }\n",
       "</style>\n",
       "<table border=\"1\" class=\"dataframe\">\n",
       "  <thead>\n",
       "    <tr style=\"text-align: right;\">\n",
       "      <th></th>\n",
       "      <th>date</th>\n",
       "      <th>train</th>\n",
       "      <th>way</th>\n",
       "      <th>station</th>\n",
       "      <th>hour</th>\n",
       "      <th>composition</th>\n",
       "      <th>p1q0</th>\n",
       "      <th>p2q0</th>\n",
       "      <th>p3q0</th>\n",
       "      <th>p0q1</th>\n",
       "      <th>p0q2</th>\n",
       "      <th>p0q3</th>\n",
       "    </tr>\n",
       "  </thead>\n",
       "  <tbody>\n",
       "    <tr>\n",
       "      <th>0</th>\n",
       "      <td>2019-01-07</td>\n",
       "      <td>1</td>\n",
       "      <td>0</td>\n",
       "      <td>AD</td>\n",
       "      <td>06:00:00</td>\n",
       "      <td>2</td>\n",
       "      <td>NaN</td>\n",
       "      <td>NaN</td>\n",
       "      <td>NaN</td>\n",
       "      <td>0.201</td>\n",
       "      <td>0.138</td>\n",
       "      <td>0.091</td>\n",
       "    </tr>\n",
       "    <tr>\n",
       "      <th>1</th>\n",
       "      <td>2019-01-08</td>\n",
       "      <td>1</td>\n",
       "      <td>0</td>\n",
       "      <td>AD</td>\n",
       "      <td>06:00:00</td>\n",
       "      <td>2</td>\n",
       "      <td>NaN</td>\n",
       "      <td>NaN</td>\n",
       "      <td>NaN</td>\n",
       "      <td>0.204</td>\n",
       "      <td>0.152</td>\n",
       "      <td>0.106</td>\n",
       "    </tr>\n",
       "    <tr>\n",
       "      <th>2</th>\n",
       "      <td>2019-01-10</td>\n",
       "      <td>1</td>\n",
       "      <td>0</td>\n",
       "      <td>AD</td>\n",
       "      <td>06:00:00</td>\n",
       "      <td>2</td>\n",
       "      <td>NaN</td>\n",
       "      <td>NaN</td>\n",
       "      <td>NaN</td>\n",
       "      <td>0.213</td>\n",
       "      <td>0.153</td>\n",
       "      <td>0.111</td>\n",
       "    </tr>\n",
       "    <tr>\n",
       "      <th>3</th>\n",
       "      <td>2019-01-11</td>\n",
       "      <td>1</td>\n",
       "      <td>0</td>\n",
       "      <td>AD</td>\n",
       "      <td>06:00:00</td>\n",
       "      <td>2</td>\n",
       "      <td>NaN</td>\n",
       "      <td>NaN</td>\n",
       "      <td>NaN</td>\n",
       "      <td>0.213</td>\n",
       "      <td>0.152</td>\n",
       "      <td>0.108</td>\n",
       "    </tr>\n",
       "    <tr>\n",
       "      <th>4</th>\n",
       "      <td>2019-01-14</td>\n",
       "      <td>1</td>\n",
       "      <td>0</td>\n",
       "      <td>AD</td>\n",
       "      <td>06:00:00</td>\n",
       "      <td>2</td>\n",
       "      <td>NaN</td>\n",
       "      <td>NaN</td>\n",
       "      <td>NaN</td>\n",
       "      <td>0.210</td>\n",
       "      <td>0.147</td>\n",
       "      <td>0.096</td>\n",
       "    </tr>\n",
       "    <tr>\n",
       "      <th>...</th>\n",
       "      <td>...</td>\n",
       "      <td>...</td>\n",
       "      <td>...</td>\n",
       "      <td>...</td>\n",
       "      <td>...</td>\n",
       "      <td>...</td>\n",
       "      <td>...</td>\n",
       "      <td>...</td>\n",
       "      <td>...</td>\n",
       "      <td>...</td>\n",
       "      <td>...</td>\n",
       "      <td>...</td>\n",
       "    </tr>\n",
       "    <tr>\n",
       "      <th>44866</th>\n",
       "      <td>2019-07-03</td>\n",
       "      <td>9</td>\n",
       "      <td>0</td>\n",
       "      <td>BE</td>\n",
       "      <td>08:00:00</td>\n",
       "      <td>2</td>\n",
       "      <td>0.121</td>\n",
       "      <td>0.145</td>\n",
       "      <td>0.15715</td>\n",
       "      <td>0.071</td>\n",
       "      <td>0.095</td>\n",
       "      <td>NaN</td>\n",
       "    </tr>\n",
       "    <tr>\n",
       "      <th>44867</th>\n",
       "      <td>2019-07-04</td>\n",
       "      <td>9</td>\n",
       "      <td>0</td>\n",
       "      <td>BE</td>\n",
       "      <td>08:00:00</td>\n",
       "      <td>2</td>\n",
       "      <td>0.144</td>\n",
       "      <td>0.139</td>\n",
       "      <td>0.15300</td>\n",
       "      <td>0.079</td>\n",
       "      <td>0.102</td>\n",
       "      <td>NaN</td>\n",
       "    </tr>\n",
       "    <tr>\n",
       "      <th>44868</th>\n",
       "      <td>2019-07-05</td>\n",
       "      <td>9</td>\n",
       "      <td>0</td>\n",
       "      <td>BE</td>\n",
       "      <td>08:00:00</td>\n",
       "      <td>2</td>\n",
       "      <td>0.128</td>\n",
       "      <td>0.137</td>\n",
       "      <td>0.12700</td>\n",
       "      <td>0.072</td>\n",
       "      <td>0.089</td>\n",
       "      <td>NaN</td>\n",
       "    </tr>\n",
       "    <tr>\n",
       "      <th>44869</th>\n",
       "      <td>2019-05-28</td>\n",
       "      <td>9</td>\n",
       "      <td>0</td>\n",
       "      <td>BE</td>\n",
       "      <td>08:00:00</td>\n",
       "      <td>2</td>\n",
       "      <td>0.164</td>\n",
       "      <td>0.187</td>\n",
       "      <td>0.15500</td>\n",
       "      <td>0.100</td>\n",
       "      <td>0.130</td>\n",
       "      <td>NaN</td>\n",
       "    </tr>\n",
       "    <tr>\n",
       "      <th>44870</th>\n",
       "      <td>2019-06-05</td>\n",
       "      <td>9</td>\n",
       "      <td>0</td>\n",
       "      <td>BE</td>\n",
       "      <td>08:00:00</td>\n",
       "      <td>2</td>\n",
       "      <td>0.146</td>\n",
       "      <td>0.172</td>\n",
       "      <td>0.12700</td>\n",
       "      <td>0.080</td>\n",
       "      <td>0.093</td>\n",
       "      <td>NaN</td>\n",
       "    </tr>\n",
       "  </tbody>\n",
       "</table>\n",
       "<p>44871 rows × 12 columns</p>\n",
       "</div>"
      ],
      "text/plain": [
       "             date  train  way station      hour  composition   p1q0   p2q0  \\\n",
       "0      2019-01-07      1    0      AD  06:00:00            2    NaN    NaN   \n",
       "1      2019-01-08      1    0      AD  06:00:00            2    NaN    NaN   \n",
       "2      2019-01-10      1    0      AD  06:00:00            2    NaN    NaN   \n",
       "3      2019-01-11      1    0      AD  06:00:00            2    NaN    NaN   \n",
       "4      2019-01-14      1    0      AD  06:00:00            2    NaN    NaN   \n",
       "...           ...    ...  ...     ...       ...          ...    ...    ...   \n",
       "44866  2019-07-03      9    0      BE  08:00:00            2  0.121  0.145   \n",
       "44867  2019-07-04      9    0      BE  08:00:00            2  0.144  0.139   \n",
       "44868  2019-07-05      9    0      BE  08:00:00            2  0.128  0.137   \n",
       "44869  2019-05-28      9    0      BE  08:00:00            2  0.164  0.187   \n",
       "44870  2019-06-05      9    0      BE  08:00:00            2  0.146  0.172   \n",
       "\n",
       "          p3q0   p0q1   p0q2   p0q3  \n",
       "0          NaN  0.201  0.138  0.091  \n",
       "1          NaN  0.204  0.152  0.106  \n",
       "2          NaN  0.213  0.153  0.111  \n",
       "3          NaN  0.213  0.152  0.108  \n",
       "4          NaN  0.210  0.147  0.096  \n",
       "...        ...    ...    ...    ...  \n",
       "44866  0.15715  0.071  0.095    NaN  \n",
       "44867  0.15300  0.079  0.102    NaN  \n",
       "44868  0.12700  0.072  0.089    NaN  \n",
       "44869  0.15500  0.100  0.130    NaN  \n",
       "44870  0.12700  0.080  0.093    NaN  \n",
       "\n",
       "[44871 rows x 12 columns]"
      ]
     },
     "execution_count": 24,
     "metadata": {},
     "output_type": "execute_result"
    }
   ],
   "source": [
    "X = pd.concat([X, X_test], axis=0)\n",
    "X.reset_index(drop=True, inplace=True)\n",
    "X"
   ]
  },
  {
   "cell_type": "markdown",
   "metadata": {},
   "source": [
    "# 2. Cleaning and Preparing data"
   ]
  },
  {
   "cell_type": "code",
   "execution_count": 25,
   "metadata": {},
   "outputs": [
    {
     "data": {
      "text/plain": [
       "False"
      ]
     },
     "execution_count": 25,
     "metadata": {},
     "output_type": "execute_result"
    }
   ],
   "source": [
    "C = True\n",
    "\n",
    "for i in range(X[\"composition\"].shape[0]):\n",
    "    if not X[\"composition\"][i] == 2:\n",
    "        C = False\n",
    "        break\n",
    "\n",
    "C"
   ]
  },
  {
   "cell_type": "code",
   "execution_count": 26,
   "metadata": {},
   "outputs": [
    {
     "data": {
      "text/plain": [
       "True"
      ]
     },
     "execution_count": 26,
     "metadata": {},
     "output_type": "execute_result"
    }
   ],
   "source": [
    "D = True\n",
    "\n",
    "for i in range(X[\"way\"].shape[0]):\n",
    "    if not X[\"way\"][i] == 0:\n",
    "        D = False\n",
    "        break\n",
    "\n",
    "D"
   ]
  },
  {
   "cell_type": "code",
   "execution_count": 27,
   "metadata": {},
   "outputs": [
    {
     "data": {
      "text/html": [
       "<div>\n",
       "<style scoped>\n",
       "    .dataframe tbody tr th:only-of-type {\n",
       "        vertical-align: middle;\n",
       "    }\n",
       "\n",
       "    .dataframe tbody tr th {\n",
       "        vertical-align: top;\n",
       "    }\n",
       "\n",
       "    .dataframe thead th {\n",
       "        text-align: right;\n",
       "    }\n",
       "</style>\n",
       "<table border=\"1\" class=\"dataframe\">\n",
       "  <thead>\n",
       "    <tr style=\"text-align: right;\">\n",
       "      <th></th>\n",
       "      <th>date</th>\n",
       "      <th>train</th>\n",
       "      <th>station</th>\n",
       "      <th>hour</th>\n",
       "      <th>composition</th>\n",
       "      <th>p1q0</th>\n",
       "      <th>p2q0</th>\n",
       "      <th>p3q0</th>\n",
       "      <th>p0q1</th>\n",
       "      <th>p0q2</th>\n",
       "      <th>p0q3</th>\n",
       "    </tr>\n",
       "  </thead>\n",
       "  <tbody>\n",
       "    <tr>\n",
       "      <th>0</th>\n",
       "      <td>2019-01-07</td>\n",
       "      <td>1</td>\n",
       "      <td>AD</td>\n",
       "      <td>06:00:00</td>\n",
       "      <td>2</td>\n",
       "      <td>NaN</td>\n",
       "      <td>NaN</td>\n",
       "      <td>NaN</td>\n",
       "      <td>0.201</td>\n",
       "      <td>0.138</td>\n",
       "      <td>0.091</td>\n",
       "    </tr>\n",
       "    <tr>\n",
       "      <th>1</th>\n",
       "      <td>2019-01-08</td>\n",
       "      <td>1</td>\n",
       "      <td>AD</td>\n",
       "      <td>06:00:00</td>\n",
       "      <td>2</td>\n",
       "      <td>NaN</td>\n",
       "      <td>NaN</td>\n",
       "      <td>NaN</td>\n",
       "      <td>0.204</td>\n",
       "      <td>0.152</td>\n",
       "      <td>0.106</td>\n",
       "    </tr>\n",
       "    <tr>\n",
       "      <th>2</th>\n",
       "      <td>2019-01-10</td>\n",
       "      <td>1</td>\n",
       "      <td>AD</td>\n",
       "      <td>06:00:00</td>\n",
       "      <td>2</td>\n",
       "      <td>NaN</td>\n",
       "      <td>NaN</td>\n",
       "      <td>NaN</td>\n",
       "      <td>0.213</td>\n",
       "      <td>0.153</td>\n",
       "      <td>0.111</td>\n",
       "    </tr>\n",
       "    <tr>\n",
       "      <th>3</th>\n",
       "      <td>2019-01-11</td>\n",
       "      <td>1</td>\n",
       "      <td>AD</td>\n",
       "      <td>06:00:00</td>\n",
       "      <td>2</td>\n",
       "      <td>NaN</td>\n",
       "      <td>NaN</td>\n",
       "      <td>NaN</td>\n",
       "      <td>0.213</td>\n",
       "      <td>0.152</td>\n",
       "      <td>0.108</td>\n",
       "    </tr>\n",
       "    <tr>\n",
       "      <th>4</th>\n",
       "      <td>2019-01-14</td>\n",
       "      <td>1</td>\n",
       "      <td>AD</td>\n",
       "      <td>06:00:00</td>\n",
       "      <td>2</td>\n",
       "      <td>NaN</td>\n",
       "      <td>NaN</td>\n",
       "      <td>NaN</td>\n",
       "      <td>0.210</td>\n",
       "      <td>0.147</td>\n",
       "      <td>0.096</td>\n",
       "    </tr>\n",
       "  </tbody>\n",
       "</table>\n",
       "</div>"
      ],
      "text/plain": [
       "         date  train station      hour  composition  p1q0  p2q0  p3q0   p0q1  \\\n",
       "0  2019-01-07      1      AD  06:00:00            2   NaN   NaN   NaN  0.201   \n",
       "1  2019-01-08      1      AD  06:00:00            2   NaN   NaN   NaN  0.204   \n",
       "2  2019-01-10      1      AD  06:00:00            2   NaN   NaN   NaN  0.213   \n",
       "3  2019-01-11      1      AD  06:00:00            2   NaN   NaN   NaN  0.213   \n",
       "4  2019-01-14      1      AD  06:00:00            2   NaN   NaN   NaN  0.210   \n",
       "\n",
       "    p0q2   p0q3  \n",
       "0  0.138  0.091  \n",
       "1  0.152  0.106  \n",
       "2  0.153  0.111  \n",
       "3  0.152  0.108  \n",
       "4  0.147  0.096  "
      ]
     },
     "execution_count": 27,
     "metadata": {},
     "output_type": "execute_result"
    }
   ],
   "source": [
    "X = X.drop( [\"way\"], axis=1)\n",
    "X.head()"
   ]
  },
  {
   "cell_type": "code",
   "execution_count": 28,
   "metadata": {},
   "outputs": [
    {
     "data": {
      "text/plain": [
       "array([ 1, 10, 11, 12, 13, 14, 15, 16, 17, 18, 19,  2, 20, 21, 22, 23, 24,\n",
       "       25, 26, 27, 28, 29,  3, 30, 31, 32, 33, 34, 35, 36, 37, 38, 39,  4,\n",
       "       40, 41, 42, 43, 44, 45, 46, 47, 48, 49,  5, 50, 51, 52, 53, 54, 55,\n",
       "        6,  7,  8,  9], dtype=int64)"
      ]
     },
     "execution_count": 28,
     "metadata": {},
     "output_type": "execute_result"
    }
   ],
   "source": [
    "X[\"train\"].unique()"
   ]
  },
  {
   "cell_type": "code",
   "execution_count": 29,
   "metadata": {},
   "outputs": [
    {
     "data": {
      "text/plain": [
       "array(['AD', 'AI', 'AJ', 'AK', 'AM', 'AT', 'AW', 'AX', 'BB', 'BD', 'BE',\n",
       "       'AE', 'AL', 'AO', 'AQ', 'BC', 'AB', 'AN', 'AS', 'BF', 'BG', 'BH',\n",
       "       'AV', 'AF', 'AP', 'AZ', 'AA', 'AC', 'AG', 'AH', 'AR', 'AU', 'BA',\n",
       "       'BI', 'BJ', 'AY'], dtype=object)"
      ]
     },
     "execution_count": 29,
     "metadata": {},
     "output_type": "execute_result"
    }
   ],
   "source": [
    "X[\"station\"].unique()"
   ]
  },
  {
   "cell_type": "code",
   "execution_count": 30,
   "metadata": {},
   "outputs": [
    {
     "data": {
      "text/plain": [
       "str"
      ]
     },
     "execution_count": 30,
     "metadata": {},
     "output_type": "execute_result"
    }
   ],
   "source": [
    "type(X['date'][1])"
   ]
  },
  {
   "cell_type": "code",
   "execution_count": 31,
   "metadata": {},
   "outputs": [
    {
     "data": {
      "text/plain": [
       "date            object\n",
       "train            int64\n",
       "station         object\n",
       "hour            object\n",
       "composition      int64\n",
       "p1q0           float64\n",
       "p2q0           float64\n",
       "p3q0           float64\n",
       "p0q1           float64\n",
       "p0q2           float64\n",
       "p0q3           float64\n",
       "dtype: object"
      ]
     },
     "execution_count": 31,
     "metadata": {},
     "output_type": "execute_result"
    }
   ],
   "source": [
    "X.dtypes"
   ]
  },
  {
   "cell_type": "code",
   "execution_count": 32,
   "metadata": {},
   "outputs": [],
   "source": [
    "X['station'] = pd.factorize(X['station'])[0]\n",
    "X[\"station\"] = X['station'].astype(float)"
   ]
  },
  {
   "cell_type": "code",
   "execution_count": 33,
   "metadata": {},
   "outputs": [
    {
     "data": {
      "text/plain": [
       "array([ 0.,  1.,  2.,  3.,  4.,  5.,  6.,  7.,  8.,  9., 10., 11., 12.,\n",
       "       13., 14., 15., 16., 17., 18., 19., 20., 21., 22., 23., 24., 25.,\n",
       "       26., 27., 28., 29., 30., 31., 32., 33., 34., 35.])"
      ]
     },
     "execution_count": 33,
     "metadata": {},
     "output_type": "execute_result"
    }
   ],
   "source": [
    "X[\"station\"].unique()"
   ]
  },
  {
   "cell_type": "code",
   "execution_count": 34,
   "metadata": {},
   "outputs": [],
   "source": [
    "X[\"train\"] = X[\"train\"].astype(float)\n",
    "X[\"composition\"] = X[\"composition\"].astype(float)"
   ]
  },
  {
   "cell_type": "code",
   "execution_count": 35,
   "metadata": {},
   "outputs": [
    {
     "data": {
      "text/plain": [
       "date            object\n",
       "train          float64\n",
       "station        float64\n",
       "hour            object\n",
       "composition    float64\n",
       "p1q0           float64\n",
       "p2q0           float64\n",
       "p3q0           float64\n",
       "p0q1           float64\n",
       "p0q2           float64\n",
       "p0q3           float64\n",
       "dtype: object"
      ]
     },
     "execution_count": 35,
     "metadata": {},
     "output_type": "execute_result"
    }
   ],
   "source": [
    "X.dtypes"
   ]
  },
  {
   "cell_type": "code",
   "execution_count": 36,
   "metadata": {},
   "outputs": [
    {
     "data": {
      "text/plain": [
       "date           0.000000\n",
       "train          0.000000\n",
       "station        0.000000\n",
       "composition    0.000000\n",
       "p1q0           0.064741\n",
       "p0q1           0.102561\n",
       "hour           0.102739\n",
       "p2q0           0.131265\n",
       "p3q0           0.197098\n",
       "p0q2           0.204988\n",
       "p0q3           0.307281\n",
       "dtype: float64"
      ]
     },
     "execution_count": 36,
     "metadata": {},
     "output_type": "execute_result"
    }
   ],
   "source": [
    "(X.isna().sum()/X.shape[0]).sort_values(ascending=True)"
   ]
  },
  {
   "cell_type": "code",
   "execution_count": 37,
   "metadata": {},
   "outputs": [],
   "source": [
    "mean_by_train1 = X.groupby('train')['p1q0'].mean()\n",
    "X['p1q0'] = X['p1q0'].fillna(X['train'].map(mean_by_train1))\n",
    "\n",
    "mean_by_train2 = X.groupby('train')['p2q0'].mean()\n",
    "X['p2q0'] = X['p2q0'].fillna(X['train'].map(mean_by_train2))\n",
    "\n",
    "mean_by_train3 = X.groupby('train')['p3q0'].mean()\n",
    "X['p3q0'] = X['p3q0'].fillna(X['train'].map(mean_by_train3))\n",
    "\n",
    "mean_by_train4 = X.groupby('train')['p0q1'].mean()\n",
    "X['p0q1'] = X['p0q1'].fillna(X['train'].map(mean_by_train4))\n",
    "\n",
    "mean_by_train5 = X.groupby('train')['p0q2'].mean()\n",
    "X['p0q2'] = X['p0q2'].fillna(X['train'].map(mean_by_train5))\n",
    "\n",
    "mean_by_train6 = X.groupby('train')['p0q3'].mean()\n",
    "X['p0q3'] = X['p0q3'].fillna(X['train'].map(mean_by_train6))\n",
    "\n",
    "X = X.fillna( value = 0)\n"
   ]
  },
  {
   "cell_type": "code",
   "execution_count": 38,
   "metadata": {},
   "outputs": [
    {
     "data": {
      "text/plain": [
       "date           0.0\n",
       "train          0.0\n",
       "station        0.0\n",
       "hour           0.0\n",
       "composition    0.0\n",
       "p1q0           0.0\n",
       "p2q0           0.0\n",
       "p3q0           0.0\n",
       "p0q1           0.0\n",
       "p0q2           0.0\n",
       "p0q3           0.0\n",
       "dtype: float64"
      ]
     },
     "execution_count": 38,
     "metadata": {},
     "output_type": "execute_result"
    }
   ],
   "source": [
    "(X.isna().sum()/X.shape[0]).sort_values(ascending=True)"
   ]
  },
  {
   "cell_type": "code",
   "execution_count": 39,
   "metadata": {},
   "outputs": [
    {
     "data": {
      "text/html": [
       "<div>\n",
       "<style scoped>\n",
       "    .dataframe tbody tr th:only-of-type {\n",
       "        vertical-align: middle;\n",
       "    }\n",
       "\n",
       "    .dataframe tbody tr th {\n",
       "        vertical-align: top;\n",
       "    }\n",
       "\n",
       "    .dataframe thead th {\n",
       "        text-align: right;\n",
       "    }\n",
       "</style>\n",
       "<table border=\"1\" class=\"dataframe\">\n",
       "  <thead>\n",
       "    <tr style=\"text-align: right;\">\n",
       "      <th></th>\n",
       "      <th>date</th>\n",
       "      <th>train</th>\n",
       "      <th>station</th>\n",
       "      <th>hour</th>\n",
       "      <th>composition</th>\n",
       "      <th>p1q0</th>\n",
       "      <th>p2q0</th>\n",
       "      <th>p3q0</th>\n",
       "      <th>p0q1</th>\n",
       "      <th>p0q2</th>\n",
       "      <th>p0q3</th>\n",
       "    </tr>\n",
       "  </thead>\n",
       "  <tbody>\n",
       "    <tr>\n",
       "      <th>0</th>\n",
       "      <td>2019-01-07</td>\n",
       "      <td>1.0</td>\n",
       "      <td>0.0</td>\n",
       "      <td>06:00:00</td>\n",
       "      <td>2.0</td>\n",
       "      <td>0.127839</td>\n",
       "      <td>0.175699</td>\n",
       "      <td>0.174865</td>\n",
       "      <td>0.201</td>\n",
       "      <td>0.138</td>\n",
       "      <td>0.09100</td>\n",
       "    </tr>\n",
       "    <tr>\n",
       "      <th>1</th>\n",
       "      <td>2019-01-08</td>\n",
       "      <td>1.0</td>\n",
       "      <td>0.0</td>\n",
       "      <td>06:00:00</td>\n",
       "      <td>2.0</td>\n",
       "      <td>0.127839</td>\n",
       "      <td>0.175699</td>\n",
       "      <td>0.174865</td>\n",
       "      <td>0.204</td>\n",
       "      <td>0.152</td>\n",
       "      <td>0.10600</td>\n",
       "    </tr>\n",
       "    <tr>\n",
       "      <th>2</th>\n",
       "      <td>2019-01-10</td>\n",
       "      <td>1.0</td>\n",
       "      <td>0.0</td>\n",
       "      <td>06:00:00</td>\n",
       "      <td>2.0</td>\n",
       "      <td>0.127839</td>\n",
       "      <td>0.175699</td>\n",
       "      <td>0.174865</td>\n",
       "      <td>0.213</td>\n",
       "      <td>0.153</td>\n",
       "      <td>0.11100</td>\n",
       "    </tr>\n",
       "    <tr>\n",
       "      <th>3</th>\n",
       "      <td>2019-01-11</td>\n",
       "      <td>1.0</td>\n",
       "      <td>0.0</td>\n",
       "      <td>06:00:00</td>\n",
       "      <td>2.0</td>\n",
       "      <td>0.127839</td>\n",
       "      <td>0.175699</td>\n",
       "      <td>0.174865</td>\n",
       "      <td>0.213</td>\n",
       "      <td>0.152</td>\n",
       "      <td>0.10800</td>\n",
       "    </tr>\n",
       "    <tr>\n",
       "      <th>4</th>\n",
       "      <td>2019-01-14</td>\n",
       "      <td>1.0</td>\n",
       "      <td>0.0</td>\n",
       "      <td>06:00:00</td>\n",
       "      <td>2.0</td>\n",
       "      <td>0.127839</td>\n",
       "      <td>0.175699</td>\n",
       "      <td>0.174865</td>\n",
       "      <td>0.210</td>\n",
       "      <td>0.147</td>\n",
       "      <td>0.09600</td>\n",
       "    </tr>\n",
       "    <tr>\n",
       "      <th>...</th>\n",
       "      <td>...</td>\n",
       "      <td>...</td>\n",
       "      <td>...</td>\n",
       "      <td>...</td>\n",
       "      <td>...</td>\n",
       "      <td>...</td>\n",
       "      <td>...</td>\n",
       "      <td>...</td>\n",
       "      <td>...</td>\n",
       "      <td>...</td>\n",
       "      <td>...</td>\n",
       "    </tr>\n",
       "    <tr>\n",
       "      <th>44866</th>\n",
       "      <td>2019-07-03</td>\n",
       "      <td>9.0</td>\n",
       "      <td>10.0</td>\n",
       "      <td>08:00:00</td>\n",
       "      <td>2.0</td>\n",
       "      <td>0.121000</td>\n",
       "      <td>0.145000</td>\n",
       "      <td>0.157150</td>\n",
       "      <td>0.071</td>\n",
       "      <td>0.095</td>\n",
       "      <td>0.24984</td>\n",
       "    </tr>\n",
       "    <tr>\n",
       "      <th>44867</th>\n",
       "      <td>2019-07-04</td>\n",
       "      <td>9.0</td>\n",
       "      <td>10.0</td>\n",
       "      <td>08:00:00</td>\n",
       "      <td>2.0</td>\n",
       "      <td>0.144000</td>\n",
       "      <td>0.139000</td>\n",
       "      <td>0.153000</td>\n",
       "      <td>0.079</td>\n",
       "      <td>0.102</td>\n",
       "      <td>0.24984</td>\n",
       "    </tr>\n",
       "    <tr>\n",
       "      <th>44868</th>\n",
       "      <td>2019-07-05</td>\n",
       "      <td>9.0</td>\n",
       "      <td>10.0</td>\n",
       "      <td>08:00:00</td>\n",
       "      <td>2.0</td>\n",
       "      <td>0.128000</td>\n",
       "      <td>0.137000</td>\n",
       "      <td>0.127000</td>\n",
       "      <td>0.072</td>\n",
       "      <td>0.089</td>\n",
       "      <td>0.24984</td>\n",
       "    </tr>\n",
       "    <tr>\n",
       "      <th>44869</th>\n",
       "      <td>2019-05-28</td>\n",
       "      <td>9.0</td>\n",
       "      <td>10.0</td>\n",
       "      <td>08:00:00</td>\n",
       "      <td>2.0</td>\n",
       "      <td>0.164000</td>\n",
       "      <td>0.187000</td>\n",
       "      <td>0.155000</td>\n",
       "      <td>0.100</td>\n",
       "      <td>0.130</td>\n",
       "      <td>0.24984</td>\n",
       "    </tr>\n",
       "    <tr>\n",
       "      <th>44870</th>\n",
       "      <td>2019-06-05</td>\n",
       "      <td>9.0</td>\n",
       "      <td>10.0</td>\n",
       "      <td>08:00:00</td>\n",
       "      <td>2.0</td>\n",
       "      <td>0.146000</td>\n",
       "      <td>0.172000</td>\n",
       "      <td>0.127000</td>\n",
       "      <td>0.080</td>\n",
       "      <td>0.093</td>\n",
       "      <td>0.24984</td>\n",
       "    </tr>\n",
       "  </tbody>\n",
       "</table>\n",
       "<p>44871 rows × 11 columns</p>\n",
       "</div>"
      ],
      "text/plain": [
       "             date  train  station      hour  composition      p1q0      p2q0  \\\n",
       "0      2019-01-07    1.0      0.0  06:00:00          2.0  0.127839  0.175699   \n",
       "1      2019-01-08    1.0      0.0  06:00:00          2.0  0.127839  0.175699   \n",
       "2      2019-01-10    1.0      0.0  06:00:00          2.0  0.127839  0.175699   \n",
       "3      2019-01-11    1.0      0.0  06:00:00          2.0  0.127839  0.175699   \n",
       "4      2019-01-14    1.0      0.0  06:00:00          2.0  0.127839  0.175699   \n",
       "...           ...    ...      ...       ...          ...       ...       ...   \n",
       "44866  2019-07-03    9.0     10.0  08:00:00          2.0  0.121000  0.145000   \n",
       "44867  2019-07-04    9.0     10.0  08:00:00          2.0  0.144000  0.139000   \n",
       "44868  2019-07-05    9.0     10.0  08:00:00          2.0  0.128000  0.137000   \n",
       "44869  2019-05-28    9.0     10.0  08:00:00          2.0  0.164000  0.187000   \n",
       "44870  2019-06-05    9.0     10.0  08:00:00          2.0  0.146000  0.172000   \n",
       "\n",
       "           p3q0   p0q1   p0q2     p0q3  \n",
       "0      0.174865  0.201  0.138  0.09100  \n",
       "1      0.174865  0.204  0.152  0.10600  \n",
       "2      0.174865  0.213  0.153  0.11100  \n",
       "3      0.174865  0.213  0.152  0.10800  \n",
       "4      0.174865  0.210  0.147  0.09600  \n",
       "...         ...    ...    ...      ...  \n",
       "44866  0.157150  0.071  0.095  0.24984  \n",
       "44867  0.153000  0.079  0.102  0.24984  \n",
       "44868  0.127000  0.072  0.089  0.24984  \n",
       "44869  0.155000  0.100  0.130  0.24984  \n",
       "44870  0.127000  0.080  0.093  0.24984  \n",
       "\n",
       "[44871 rows x 11 columns]"
      ]
     },
     "execution_count": 39,
     "metadata": {},
     "output_type": "execute_result"
    }
   ],
   "source": [
    "X"
   ]
  },
  {
   "cell_type": "markdown",
   "metadata": {},
   "source": [
    "# 3. Data cleaning "
   ]
  },
  {
   "cell_type": "code",
   "execution_count": 40,
   "metadata": {},
   "outputs": [
    {
     "data": {
      "text/plain": [
       "-11.0"
      ]
     },
     "execution_count": 40,
     "metadata": {},
     "output_type": "execute_result"
    }
   ],
   "source": [
    "# We check how much number 1 we have in the colomn \"composition\" \n",
    "(X[\"composition\"].sum() - X[\"composition\"].shape[0]*2)  "
   ]
  },
  {
   "cell_type": "code",
   "execution_count": 41,
   "metadata": {},
   "outputs": [
    {
     "data": {
      "text/html": [
       "<div>\n",
       "<style scoped>\n",
       "    .dataframe tbody tr th:only-of-type {\n",
       "        vertical-align: middle;\n",
       "    }\n",
       "\n",
       "    .dataframe tbody tr th {\n",
       "        vertical-align: top;\n",
       "    }\n",
       "\n",
       "    .dataframe thead th {\n",
       "        text-align: right;\n",
       "    }\n",
       "</style>\n",
       "<table border=\"1\" class=\"dataframe\">\n",
       "  <thead>\n",
       "    <tr style=\"text-align: right;\">\n",
       "      <th></th>\n",
       "      <th>date</th>\n",
       "      <th>train</th>\n",
       "      <th>station</th>\n",
       "      <th>hour</th>\n",
       "      <th>p1q0</th>\n",
       "      <th>p2q0</th>\n",
       "      <th>p3q0</th>\n",
       "      <th>p0q1</th>\n",
       "      <th>p0q2</th>\n",
       "      <th>p0q3</th>\n",
       "    </tr>\n",
       "  </thead>\n",
       "  <tbody>\n",
       "    <tr>\n",
       "      <th>0</th>\n",
       "      <td>2019-01-07</td>\n",
       "      <td>1.0</td>\n",
       "      <td>0.0</td>\n",
       "      <td>06:00:00</td>\n",
       "      <td>0.127839</td>\n",
       "      <td>0.175699</td>\n",
       "      <td>0.174865</td>\n",
       "      <td>0.201</td>\n",
       "      <td>0.138</td>\n",
       "      <td>0.09100</td>\n",
       "    </tr>\n",
       "    <tr>\n",
       "      <th>1</th>\n",
       "      <td>2019-01-08</td>\n",
       "      <td>1.0</td>\n",
       "      <td>0.0</td>\n",
       "      <td>06:00:00</td>\n",
       "      <td>0.127839</td>\n",
       "      <td>0.175699</td>\n",
       "      <td>0.174865</td>\n",
       "      <td>0.204</td>\n",
       "      <td>0.152</td>\n",
       "      <td>0.10600</td>\n",
       "    </tr>\n",
       "    <tr>\n",
       "      <th>2</th>\n",
       "      <td>2019-01-10</td>\n",
       "      <td>1.0</td>\n",
       "      <td>0.0</td>\n",
       "      <td>06:00:00</td>\n",
       "      <td>0.127839</td>\n",
       "      <td>0.175699</td>\n",
       "      <td>0.174865</td>\n",
       "      <td>0.213</td>\n",
       "      <td>0.153</td>\n",
       "      <td>0.11100</td>\n",
       "    </tr>\n",
       "    <tr>\n",
       "      <th>3</th>\n",
       "      <td>2019-01-11</td>\n",
       "      <td>1.0</td>\n",
       "      <td>0.0</td>\n",
       "      <td>06:00:00</td>\n",
       "      <td>0.127839</td>\n",
       "      <td>0.175699</td>\n",
       "      <td>0.174865</td>\n",
       "      <td>0.213</td>\n",
       "      <td>0.152</td>\n",
       "      <td>0.10800</td>\n",
       "    </tr>\n",
       "    <tr>\n",
       "      <th>4</th>\n",
       "      <td>2019-01-14</td>\n",
       "      <td>1.0</td>\n",
       "      <td>0.0</td>\n",
       "      <td>06:00:00</td>\n",
       "      <td>0.127839</td>\n",
       "      <td>0.175699</td>\n",
       "      <td>0.174865</td>\n",
       "      <td>0.210</td>\n",
       "      <td>0.147</td>\n",
       "      <td>0.09600</td>\n",
       "    </tr>\n",
       "    <tr>\n",
       "      <th>...</th>\n",
       "      <td>...</td>\n",
       "      <td>...</td>\n",
       "      <td>...</td>\n",
       "      <td>...</td>\n",
       "      <td>...</td>\n",
       "      <td>...</td>\n",
       "      <td>...</td>\n",
       "      <td>...</td>\n",
       "      <td>...</td>\n",
       "      <td>...</td>\n",
       "    </tr>\n",
       "    <tr>\n",
       "      <th>44866</th>\n",
       "      <td>2019-07-03</td>\n",
       "      <td>9.0</td>\n",
       "      <td>10.0</td>\n",
       "      <td>08:00:00</td>\n",
       "      <td>0.121000</td>\n",
       "      <td>0.145000</td>\n",
       "      <td>0.157150</td>\n",
       "      <td>0.071</td>\n",
       "      <td>0.095</td>\n",
       "      <td>0.24984</td>\n",
       "    </tr>\n",
       "    <tr>\n",
       "      <th>44867</th>\n",
       "      <td>2019-07-04</td>\n",
       "      <td>9.0</td>\n",
       "      <td>10.0</td>\n",
       "      <td>08:00:00</td>\n",
       "      <td>0.144000</td>\n",
       "      <td>0.139000</td>\n",
       "      <td>0.153000</td>\n",
       "      <td>0.079</td>\n",
       "      <td>0.102</td>\n",
       "      <td>0.24984</td>\n",
       "    </tr>\n",
       "    <tr>\n",
       "      <th>44868</th>\n",
       "      <td>2019-07-05</td>\n",
       "      <td>9.0</td>\n",
       "      <td>10.0</td>\n",
       "      <td>08:00:00</td>\n",
       "      <td>0.128000</td>\n",
       "      <td>0.137000</td>\n",
       "      <td>0.127000</td>\n",
       "      <td>0.072</td>\n",
       "      <td>0.089</td>\n",
       "      <td>0.24984</td>\n",
       "    </tr>\n",
       "    <tr>\n",
       "      <th>44869</th>\n",
       "      <td>2019-05-28</td>\n",
       "      <td>9.0</td>\n",
       "      <td>10.0</td>\n",
       "      <td>08:00:00</td>\n",
       "      <td>0.164000</td>\n",
       "      <td>0.187000</td>\n",
       "      <td>0.155000</td>\n",
       "      <td>0.100</td>\n",
       "      <td>0.130</td>\n",
       "      <td>0.24984</td>\n",
       "    </tr>\n",
       "    <tr>\n",
       "      <th>44870</th>\n",
       "      <td>2019-06-05</td>\n",
       "      <td>9.0</td>\n",
       "      <td>10.0</td>\n",
       "      <td>08:00:00</td>\n",
       "      <td>0.146000</td>\n",
       "      <td>0.172000</td>\n",
       "      <td>0.127000</td>\n",
       "      <td>0.080</td>\n",
       "      <td>0.093</td>\n",
       "      <td>0.24984</td>\n",
       "    </tr>\n",
       "  </tbody>\n",
       "</table>\n",
       "<p>44871 rows × 10 columns</p>\n",
       "</div>"
      ],
      "text/plain": [
       "             date  train  station      hour      p1q0      p2q0      p3q0  \\\n",
       "0      2019-01-07    1.0      0.0  06:00:00  0.127839  0.175699  0.174865   \n",
       "1      2019-01-08    1.0      0.0  06:00:00  0.127839  0.175699  0.174865   \n",
       "2      2019-01-10    1.0      0.0  06:00:00  0.127839  0.175699  0.174865   \n",
       "3      2019-01-11    1.0      0.0  06:00:00  0.127839  0.175699  0.174865   \n",
       "4      2019-01-14    1.0      0.0  06:00:00  0.127839  0.175699  0.174865   \n",
       "...           ...    ...      ...       ...       ...       ...       ...   \n",
       "44866  2019-07-03    9.0     10.0  08:00:00  0.121000  0.145000  0.157150   \n",
       "44867  2019-07-04    9.0     10.0  08:00:00  0.144000  0.139000  0.153000   \n",
       "44868  2019-07-05    9.0     10.0  08:00:00  0.128000  0.137000  0.127000   \n",
       "44869  2019-05-28    9.0     10.0  08:00:00  0.164000  0.187000  0.155000   \n",
       "44870  2019-06-05    9.0     10.0  08:00:00  0.146000  0.172000  0.127000   \n",
       "\n",
       "        p0q1   p0q2     p0q3  \n",
       "0      0.201  0.138  0.09100  \n",
       "1      0.204  0.152  0.10600  \n",
       "2      0.213  0.153  0.11100  \n",
       "3      0.213  0.152  0.10800  \n",
       "4      0.210  0.147  0.09600  \n",
       "...      ...    ...      ...  \n",
       "44866  0.071  0.095  0.24984  \n",
       "44867  0.079  0.102  0.24984  \n",
       "44868  0.072  0.089  0.24984  \n",
       "44869  0.100  0.130  0.24984  \n",
       "44870  0.080  0.093  0.24984  \n",
       "\n",
       "[44871 rows x 10 columns]"
      ]
     },
     "execution_count": 41,
     "metadata": {},
     "output_type": "execute_result"
    }
   ],
   "source": [
    "# We can delete it now\n",
    "X.drop([\"composition\"], axis=1)"
   ]
  },
  {
   "cell_type": "code",
   "execution_count": 42,
   "metadata": {},
   "outputs": [],
   "source": [
    "import seaborn as sns"
   ]
  },
  {
   "cell_type": "code",
   "execution_count": 43,
   "metadata": {},
   "outputs": [
    {
     "data": {
      "text/plain": [
       "date            object\n",
       "train          float64\n",
       "station        float64\n",
       "hour            object\n",
       "composition    float64\n",
       "p1q0           float64\n",
       "p2q0           float64\n",
       "p3q0           float64\n",
       "p0q1           float64\n",
       "p0q2           float64\n",
       "p0q3           float64\n",
       "dtype: object"
      ]
     },
     "execution_count": 43,
     "metadata": {},
     "output_type": "execute_result"
    }
   ],
   "source": [
    "X.dtypes"
   ]
  },
  {
   "cell_type": "code",
   "execution_count": 44,
   "metadata": {},
   "outputs": [],
   "source": [
    "X['hour'] = pd.to_datetime(X['hour'], format=\"%H:%M:%S\", errors='coerce')\n",
    "X['hour'] = X['hour'].dt.time\n",
    "X['hour'] = X['hour'].apply(lambda x: x.hour + x.minute * 60 + x.second)\n"
   ]
  },
  {
   "cell_type": "code",
   "execution_count": 45,
   "metadata": {},
   "outputs": [
    {
     "data": {
      "text/plain": [
       "array([ 6.,  7., nan,  8.,  9., 11.])"
      ]
     },
     "execution_count": 45,
     "metadata": {},
     "output_type": "execute_result"
    }
   ],
   "source": [
    "X[\"hour\"].unique()"
   ]
  },
  {
   "cell_type": "code",
   "execution_count": 46,
   "metadata": {},
   "outputs": [
    {
     "data": {
      "text/plain": [
       "date            object\n",
       "train          float64\n",
       "station        float64\n",
       "hour           float64\n",
       "composition    float64\n",
       "p1q0           float64\n",
       "p2q0           float64\n",
       "p3q0           float64\n",
       "p0q1           float64\n",
       "p0q2           float64\n",
       "p0q3           float64\n",
       "dtype: object"
      ]
     },
     "execution_count": 46,
     "metadata": {},
     "output_type": "execute_result"
    }
   ],
   "source": [
    "X.dtypes"
   ]
  },
  {
   "cell_type": "code",
   "execution_count": 47,
   "metadata": {},
   "outputs": [
    {
     "name": "stdout",
     "output_type": "stream",
     "text": [
      "6 : 7117\n",
      "7 : 14647\n",
      "8 : 14398\n",
      "9 : 4097\n",
      "11 : 2\n"
     ]
    }
   ],
   "source": [
    "print(f\"6 : {(X['hour'] == 6 ).sum()}\")\n",
    "print(f\"7 : {(X['hour'] == 7 ).sum()}\")\n",
    "print(f\"8 : {(X['hour'] == 8 ).sum()}\")\n",
    "print(f\"9 : {(X['hour'] == 9 ).sum()}\")\n",
    "print(f\"11 : {(X['hour'] == 11 ).sum()}\")"
   ]
  },
  {
   "cell_type": "code",
   "execution_count": 48,
   "metadata": {},
   "outputs": [],
   "source": [
    "X['hour'] = X['hour'].fillna(8.0)"
   ]
  },
  {
   "cell_type": "code",
   "execution_count": 49,
   "metadata": {},
   "outputs": [
    {
     "data": {
      "text/plain": [
       "date           0.0\n",
       "train          0.0\n",
       "station        0.0\n",
       "hour           0.0\n",
       "composition    0.0\n",
       "p1q0           0.0\n",
       "p2q0           0.0\n",
       "p3q0           0.0\n",
       "p0q1           0.0\n",
       "p0q2           0.0\n",
       "p0q3           0.0\n",
       "dtype: float64"
      ]
     },
     "execution_count": 49,
     "metadata": {},
     "output_type": "execute_result"
    }
   ],
   "source": [
    "(X.isna().sum()/X.shape[0]).sort_values(ascending=True)"
   ]
  },
  {
   "cell_type": "code",
   "execution_count": 50,
   "metadata": {},
   "outputs": [],
   "source": [
    "import matplotlib.pyplot as plt"
   ]
  },
  {
   "cell_type": "code",
   "execution_count": 51,
   "metadata": {},
   "outputs": [
    {
     "data": {
      "text/plain": [
       "(array([11813., 11410.,  7228.,  5307.,  4819.,  3001.,  1078.,   153.,\n",
       "           49.,    13.]),\n",
       " array([0.    , 0.0934, 0.1868, 0.2802, 0.3736, 0.467 , 0.5604, 0.6538,\n",
       "        0.7472, 0.8406, 0.934 ]),\n",
       " <BarContainer object of 10 artists>)"
      ]
     },
     "execution_count": 51,
     "metadata": {},
     "output_type": "execute_result"
    },
    {
     "data": {
      "image/png": "[encoded data removed]",
      "text/plain": [
       "<Figure size 640x480 with 1 Axes>"
      ]
     },
     "metadata": {},
     "output_type": "display_data"
    }
   ],
   "source": [
    "plt.hist(X[\"p1q0\"])"
   ]
  },
  {
   "cell_type": "code",
   "execution_count": 52,
   "metadata": {},
   "outputs": [
    {
     "data": {
      "text/plain": [
       "<Axes: xlabel='hour', ylabel='p1q0'>"
      ]
     },
     "execution_count": 52,
     "metadata": {},
     "output_type": "execute_result"
    },
    {
     "data": {
      "image/png": "[encoded data removed]",
      "text/plain": [
       "<Figure size 1000x600 with 1 Axes>"
      ]
     },
     "metadata": {},
     "output_type": "display_data"
    }
   ],
   "source": [
    "sns.set(style=\"whitegrid\")\n",
    "plt.figure(figsize=(10, 6))\n",
    "sns.lineplot(x='hour', y='p1q0', data=X, marker='o', color='b')"
   ]
  },
  {
   "cell_type": "code",
   "execution_count": 53,
   "metadata": {},
   "outputs": [
    {
     "data": {
      "text/plain": [
       "2"
      ]
     },
     "execution_count": 53,
     "metadata": {},
     "output_type": "execute_result"
    }
   ],
   "source": [
    "(X['hour'] == 11.0).sum()"
   ]
  },
  {
   "cell_type": "code",
   "execution_count": 54,
   "metadata": {},
   "outputs": [
    {
     "data": {
      "text/html": [
       "<div>\n",
       "<style scoped>\n",
       "    .dataframe tbody tr th:only-of-type {\n",
       "        vertical-align: middle;\n",
       "    }\n",
       "\n",
       "    .dataframe tbody tr th {\n",
       "        vertical-align: top;\n",
       "    }\n",
       "\n",
       "    .dataframe thead th {\n",
       "        text-align: right;\n",
       "    }\n",
       "</style>\n",
       "<table border=\"1\" class=\"dataframe\">\n",
       "  <thead>\n",
       "    <tr style=\"text-align: right;\">\n",
       "      <th></th>\n",
       "      <th>date</th>\n",
       "      <th>train</th>\n",
       "      <th>station</th>\n",
       "      <th>hour</th>\n",
       "      <th>composition</th>\n",
       "      <th>p1q0</th>\n",
       "      <th>p2q0</th>\n",
       "      <th>p3q0</th>\n",
       "      <th>p0q1</th>\n",
       "      <th>p0q2</th>\n",
       "      <th>p0q3</th>\n",
       "    </tr>\n",
       "  </thead>\n",
       "  <tbody>\n",
       "    <tr>\n",
       "      <th>28760</th>\n",
       "      <td>2019-04-09</td>\n",
       "      <td>6.0</td>\n",
       "      <td>2.0</td>\n",
       "      <td>11.0</td>\n",
       "      <td>2.0</td>\n",
       "      <td>0.463</td>\n",
       "      <td>0.539</td>\n",
       "      <td>0.403</td>\n",
       "      <td>0.4154</td>\n",
       "      <td>0.5190</td>\n",
       "      <td>0.4370</td>\n",
       "    </tr>\n",
       "    <tr>\n",
       "      <th>29109</th>\n",
       "      <td>2019-04-09</td>\n",
       "      <td>6.0</td>\n",
       "      <td>8.0</td>\n",
       "      <td>11.0</td>\n",
       "      <td>2.0</td>\n",
       "      <td>0.457</td>\n",
       "      <td>0.401</td>\n",
       "      <td>0.532</td>\n",
       "      <td>0.6130</td>\n",
       "      <td>0.5488</td>\n",
       "      <td>0.4836</td>\n",
       "    </tr>\n",
       "  </tbody>\n",
       "</table>\n",
       "</div>"
      ],
      "text/plain": [
       "             date  train  station  hour  composition   p1q0   p2q0   p3q0  \\\n",
       "28760  2019-04-09    6.0      2.0  11.0          2.0  0.463  0.539  0.403   \n",
       "29109  2019-04-09    6.0      8.0  11.0          2.0  0.457  0.401  0.532   \n",
       "\n",
       "         p0q1    p0q2    p0q3  \n",
       "28760  0.4154  0.5190  0.4370  \n",
       "29109  0.6130  0.5488  0.4836  "
      ]
     },
     "execution_count": 54,
     "metadata": {},
     "output_type": "execute_result"
    }
   ],
   "source": [
    "X[X['hour'] == 11]"
   ]
  },
  {
   "cell_type": "code",
   "execution_count": 55,
   "metadata": {},
   "outputs": [
    {
     "data": {
      "text/plain": [
       "<Axes: xlabel='hour', ylabel='p2q0'>"
      ]
     },
     "execution_count": 55,
     "metadata": {},
     "output_type": "execute_result"
    },
    {
     "data": {
      "image/png": "[encoded data removed]",
      "text/plain": [
       "<Figure size 1000x600 with 1 Axes>"
      ]
     },
     "metadata": {},
     "output_type": "display_data"
    }
   ],
   "source": [
    "sns.set(style=\"whitegrid\")\n",
    "plt.figure(figsize=(10, 6))\n",
    "sns.lineplot(x='hour', y='p2q0', data=X, marker='o', color='b')"
   ]
  },
  {
   "cell_type": "code",
   "execution_count": 56,
   "metadata": {},
   "outputs": [
    {
     "data": {
      "text/plain": [
       "<Axes: xlabel='hour', ylabel='p3q0'>"
      ]
     },
     "execution_count": 56,
     "metadata": {},
     "output_type": "execute_result"
    },
    {
     "data": {
      "image/png": "[encoded data removed]",
      "text/plain": [
       "<Figure size 1000x600 with 1 Axes>"
      ]
     },
     "metadata": {},
     "output_type": "display_data"
    }
   ],
   "source": [
    "sns.set(style=\"whitegrid\")\n",
    "plt.figure(figsize=(10, 6))\n",
    "sns.lineplot(x='hour', y='p3q0', data=X, marker='o', color='b')"
   ]
  },
  {
   "cell_type": "code",
   "execution_count": 57,
   "metadata": {},
   "outputs": [
    {
     "data": {
      "text/plain": [
       "<Axes: xlabel='hour', ylabel='p0q1'>"
      ]
     },
     "execution_count": 57,
     "metadata": {},
     "output_type": "execute_result"
    },
    {
     "data": {
      "image/png": "[encoded data removed]",
      "text/plain": [
       "<Figure size 1000x600 with 1 Axes>"
      ]
     },
     "metadata": {},
     "output_type": "display_data"
    }
   ],
   "source": [
    "sns.set(style=\"whitegrid\")\n",
    "plt.figure(figsize=(10, 6))\n",
    "sns.lineplot(x='hour', y='p0q1', data=X, marker='o', color='b')"
   ]
  },
  {
   "cell_type": "code",
   "execution_count": 58,
   "metadata": {},
   "outputs": [
    {
     "data": {
      "text/plain": [
       "<Axes: xlabel='hour', ylabel='p0q2'>"
      ]
     },
     "execution_count": 58,
     "metadata": {},
     "output_type": "execute_result"
    },
    {
     "data": {
      "image/png": "[encoded data removed]",
      "text/plain": [
       "<Figure size 1000x600 with 1 Axes>"
      ]
     },
     "metadata": {},
     "output_type": "display_data"
    }
   ],
   "source": [
    "sns.set(style=\"whitegrid\")\n",
    "plt.figure(figsize=(10, 6))\n",
    "sns.lineplot(x='hour', y='p0q2', data=X, marker='o', color='b')"
   ]
  },
  {
   "cell_type": "code",
   "execution_count": 59,
   "metadata": {},
   "outputs": [
    {
     "data": {
      "text/plain": [
       "<Axes: xlabel='hour', ylabel='p0q3'>"
      ]
     },
     "execution_count": 59,
     "metadata": {},
     "output_type": "execute_result"
    },
    {
     "data": {
      "image/png": "[encoded data removed]",
      "text/plain": [
       "<Figure size 1000x600 with 1 Axes>"
      ]
     },
     "metadata": {},
     "output_type": "display_data"
    }
   ],
   "source": [
    "sns.set(style=\"whitegrid\")\n",
    "plt.figure(figsize=(10, 6))\n",
    "sns.lineplot(x='hour', y='p0q3', data=X, marker='o', color='b')"
   ]
  },
  {
   "cell_type": "code",
   "execution_count": 60,
   "metadata": {},
   "outputs": [
    {
     "data": {
      "text/html": [
       "<div>\n",
       "<style scoped>\n",
       "    .dataframe tbody tr th:only-of-type {\n",
       "        vertical-align: middle;\n",
       "    }\n",
       "\n",
       "    .dataframe tbody tr th {\n",
       "        vertical-align: top;\n",
       "    }\n",
       "\n",
       "    .dataframe thead th {\n",
       "        text-align: right;\n",
       "    }\n",
       "</style>\n",
       "<table border=\"1\" class=\"dataframe\">\n",
       "  <thead>\n",
       "    <tr style=\"text-align: right;\">\n",
       "      <th></th>\n",
       "      <th>date</th>\n",
       "      <th>train</th>\n",
       "      <th>station</th>\n",
       "      <th>hour</th>\n",
       "      <th>composition</th>\n",
       "      <th>p1q0</th>\n",
       "      <th>p2q0</th>\n",
       "      <th>p3q0</th>\n",
       "      <th>p0q1</th>\n",
       "      <th>p0q2</th>\n",
       "      <th>p0q3</th>\n",
       "    </tr>\n",
       "  </thead>\n",
       "  <tbody>\n",
       "    <tr>\n",
       "      <th>0</th>\n",
       "      <td>2019-01-07</td>\n",
       "      <td>1.0</td>\n",
       "      <td>0.0</td>\n",
       "      <td>6.0</td>\n",
       "      <td>2.0</td>\n",
       "      <td>0.127839</td>\n",
       "      <td>0.175699</td>\n",
       "      <td>0.174865</td>\n",
       "      <td>0.201</td>\n",
       "      <td>0.138</td>\n",
       "      <td>0.09100</td>\n",
       "    </tr>\n",
       "    <tr>\n",
       "      <th>1</th>\n",
       "      <td>2019-01-08</td>\n",
       "      <td>1.0</td>\n",
       "      <td>0.0</td>\n",
       "      <td>6.0</td>\n",
       "      <td>2.0</td>\n",
       "      <td>0.127839</td>\n",
       "      <td>0.175699</td>\n",
       "      <td>0.174865</td>\n",
       "      <td>0.204</td>\n",
       "      <td>0.152</td>\n",
       "      <td>0.10600</td>\n",
       "    </tr>\n",
       "    <tr>\n",
       "      <th>2</th>\n",
       "      <td>2019-01-10</td>\n",
       "      <td>1.0</td>\n",
       "      <td>0.0</td>\n",
       "      <td>6.0</td>\n",
       "      <td>2.0</td>\n",
       "      <td>0.127839</td>\n",
       "      <td>0.175699</td>\n",
       "      <td>0.174865</td>\n",
       "      <td>0.213</td>\n",
       "      <td>0.153</td>\n",
       "      <td>0.11100</td>\n",
       "    </tr>\n",
       "    <tr>\n",
       "      <th>3</th>\n",
       "      <td>2019-01-11</td>\n",
       "      <td>1.0</td>\n",
       "      <td>0.0</td>\n",
       "      <td>6.0</td>\n",
       "      <td>2.0</td>\n",
       "      <td>0.127839</td>\n",
       "      <td>0.175699</td>\n",
       "      <td>0.174865</td>\n",
       "      <td>0.213</td>\n",
       "      <td>0.152</td>\n",
       "      <td>0.10800</td>\n",
       "    </tr>\n",
       "    <tr>\n",
       "      <th>4</th>\n",
       "      <td>2019-01-14</td>\n",
       "      <td>1.0</td>\n",
       "      <td>0.0</td>\n",
       "      <td>6.0</td>\n",
       "      <td>2.0</td>\n",
       "      <td>0.127839</td>\n",
       "      <td>0.175699</td>\n",
       "      <td>0.174865</td>\n",
       "      <td>0.210</td>\n",
       "      <td>0.147</td>\n",
       "      <td>0.09600</td>\n",
       "    </tr>\n",
       "    <tr>\n",
       "      <th>...</th>\n",
       "      <td>...</td>\n",
       "      <td>...</td>\n",
       "      <td>...</td>\n",
       "      <td>...</td>\n",
       "      <td>...</td>\n",
       "      <td>...</td>\n",
       "      <td>...</td>\n",
       "      <td>...</td>\n",
       "      <td>...</td>\n",
       "      <td>...</td>\n",
       "      <td>...</td>\n",
       "    </tr>\n",
       "    <tr>\n",
       "      <th>44866</th>\n",
       "      <td>2019-07-03</td>\n",
       "      <td>9.0</td>\n",
       "      <td>10.0</td>\n",
       "      <td>8.0</td>\n",
       "      <td>2.0</td>\n",
       "      <td>0.121000</td>\n",
       "      <td>0.145000</td>\n",
       "      <td>0.157150</td>\n",
       "      <td>0.071</td>\n",
       "      <td>0.095</td>\n",
       "      <td>0.24984</td>\n",
       "    </tr>\n",
       "    <tr>\n",
       "      <th>44867</th>\n",
       "      <td>2019-07-04</td>\n",
       "      <td>9.0</td>\n",
       "      <td>10.0</td>\n",
       "      <td>8.0</td>\n",
       "      <td>2.0</td>\n",
       "      <td>0.144000</td>\n",
       "      <td>0.139000</td>\n",
       "      <td>0.153000</td>\n",
       "      <td>0.079</td>\n",
       "      <td>0.102</td>\n",
       "      <td>0.24984</td>\n",
       "    </tr>\n",
       "    <tr>\n",
       "      <th>44868</th>\n",
       "      <td>2019-07-05</td>\n",
       "      <td>9.0</td>\n",
       "      <td>10.0</td>\n",
       "      <td>8.0</td>\n",
       "      <td>2.0</td>\n",
       "      <td>0.128000</td>\n",
       "      <td>0.137000</td>\n",
       "      <td>0.127000</td>\n",
       "      <td>0.072</td>\n",
       "      <td>0.089</td>\n",
       "      <td>0.24984</td>\n",
       "    </tr>\n",
       "    <tr>\n",
       "      <th>44869</th>\n",
       "      <td>2019-05-28</td>\n",
       "      <td>9.0</td>\n",
       "      <td>10.0</td>\n",
       "      <td>8.0</td>\n",
       "      <td>2.0</td>\n",
       "      <td>0.164000</td>\n",
       "      <td>0.187000</td>\n",
       "      <td>0.155000</td>\n",
       "      <td>0.100</td>\n",
       "      <td>0.130</td>\n",
       "      <td>0.24984</td>\n",
       "    </tr>\n",
       "    <tr>\n",
       "      <th>44870</th>\n",
       "      <td>2019-06-05</td>\n",
       "      <td>9.0</td>\n",
       "      <td>10.0</td>\n",
       "      <td>8.0</td>\n",
       "      <td>2.0</td>\n",
       "      <td>0.146000</td>\n",
       "      <td>0.172000</td>\n",
       "      <td>0.127000</td>\n",
       "      <td>0.080</td>\n",
       "      <td>0.093</td>\n",
       "      <td>0.24984</td>\n",
       "    </tr>\n",
       "  </tbody>\n",
       "</table>\n",
       "<p>44871 rows × 11 columns</p>\n",
       "</div>"
      ],
      "text/plain": [
       "             date  train  station  hour  composition      p1q0      p2q0  \\\n",
       "0      2019-01-07    1.0      0.0   6.0          2.0  0.127839  0.175699   \n",
       "1      2019-01-08    1.0      0.0   6.0          2.0  0.127839  0.175699   \n",
       "2      2019-01-10    1.0      0.0   6.0          2.0  0.127839  0.175699   \n",
       "3      2019-01-11    1.0      0.0   6.0          2.0  0.127839  0.175699   \n",
       "4      2019-01-14    1.0      0.0   6.0          2.0  0.127839  0.175699   \n",
       "...           ...    ...      ...   ...          ...       ...       ...   \n",
       "44866  2019-07-03    9.0     10.0   8.0          2.0  0.121000  0.145000   \n",
       "44867  2019-07-04    9.0     10.0   8.0          2.0  0.144000  0.139000   \n",
       "44868  2019-07-05    9.0     10.0   8.0          2.0  0.128000  0.137000   \n",
       "44869  2019-05-28    9.0     10.0   8.0          2.0  0.164000  0.187000   \n",
       "44870  2019-06-05    9.0     10.0   8.0          2.0  0.146000  0.172000   \n",
       "\n",
       "           p3q0   p0q1   p0q2     p0q3  \n",
       "0      0.174865  0.201  0.138  0.09100  \n",
       "1      0.174865  0.204  0.152  0.10600  \n",
       "2      0.174865  0.213  0.153  0.11100  \n",
       "3      0.174865  0.213  0.152  0.10800  \n",
       "4      0.174865  0.210  0.147  0.09600  \n",
       "...         ...    ...    ...      ...  \n",
       "44866  0.157150  0.071  0.095  0.24984  \n",
       "44867  0.153000  0.079  0.102  0.24984  \n",
       "44868  0.127000  0.072  0.089  0.24984  \n",
       "44869  0.155000  0.100  0.130  0.24984  \n",
       "44870  0.127000  0.080  0.093  0.24984  \n",
       "\n",
       "[44871 rows x 11 columns]"
      ]
     },
     "execution_count": 60,
     "metadata": {},
     "output_type": "execute_result"
    }
   ],
   "source": [
    "X"
   ]
  },
  {
   "cell_type": "code",
   "execution_count": 61,
   "metadata": {},
   "outputs": [
    {
     "data": {
      "text/plain": [
       "date           0.0\n",
       "train          0.0\n",
       "station        0.0\n",
       "hour           0.0\n",
       "composition    0.0\n",
       "p1q0           0.0\n",
       "p2q0           0.0\n",
       "p3q0           0.0\n",
       "p0q1           0.0\n",
       "p0q2           0.0\n",
       "p0q3           0.0\n",
       "dtype: float64"
      ]
     },
     "execution_count": 61,
     "metadata": {},
     "output_type": "execute_result"
    }
   ],
   "source": [
    "(X.isna().sum()/X.shape[0]).sort_values(ascending=True)"
   ]
  },
  {
   "cell_type": "code",
   "execution_count": 62,
   "metadata": {},
   "outputs": [],
   "source": [
    "X = X.dropna(subset=['hour'])\n",
    "X.reset_index(drop=True, inplace=True)"
   ]
  },
  {
   "cell_type": "code",
   "execution_count": 63,
   "metadata": {},
   "outputs": [
    {
     "data": {
      "text/plain": [
       "date           0.0\n",
       "train          0.0\n",
       "station        0.0\n",
       "hour           0.0\n",
       "composition    0.0\n",
       "p1q0           0.0\n",
       "p2q0           0.0\n",
       "p3q0           0.0\n",
       "p0q1           0.0\n",
       "p0q2           0.0\n",
       "p0q3           0.0\n",
       "dtype: float64"
      ]
     },
     "execution_count": 63,
     "metadata": {},
     "output_type": "execute_result"
    }
   ],
   "source": [
    "(X.isna().sum()/X.shape[0]).sort_values(ascending=True)"
   ]
  },
  {
   "cell_type": "code",
   "execution_count": 64,
   "metadata": {},
   "outputs": [
    {
     "data": {
      "text/html": [
       "<div>\n",
       "<style scoped>\n",
       "    .dataframe tbody tr th:only-of-type {\n",
       "        vertical-align: middle;\n",
       "    }\n",
       "\n",
       "    .dataframe tbody tr th {\n",
       "        vertical-align: top;\n",
       "    }\n",
       "\n",
       "    .dataframe thead th {\n",
       "        text-align: right;\n",
       "    }\n",
       "</style>\n",
       "<table border=\"1\" class=\"dataframe\">\n",
       "  <thead>\n",
       "    <tr style=\"text-align: right;\">\n",
       "      <th></th>\n",
       "      <th>date</th>\n",
       "      <th>train</th>\n",
       "      <th>station</th>\n",
       "      <th>hour</th>\n",
       "      <th>composition</th>\n",
       "      <th>p1q0</th>\n",
       "      <th>p2q0</th>\n",
       "      <th>p3q0</th>\n",
       "      <th>p0q1</th>\n",
       "      <th>p0q2</th>\n",
       "      <th>p0q3</th>\n",
       "    </tr>\n",
       "  </thead>\n",
       "  <tbody>\n",
       "    <tr>\n",
       "      <th>0</th>\n",
       "      <td>2019-01-07</td>\n",
       "      <td>1.0</td>\n",
       "      <td>0.0</td>\n",
       "      <td>6.0</td>\n",
       "      <td>2.0</td>\n",
       "      <td>0.127839</td>\n",
       "      <td>0.175699</td>\n",
       "      <td>0.174865</td>\n",
       "      <td>0.201</td>\n",
       "      <td>0.138</td>\n",
       "      <td>0.09100</td>\n",
       "    </tr>\n",
       "    <tr>\n",
       "      <th>1</th>\n",
       "      <td>2019-01-08</td>\n",
       "      <td>1.0</td>\n",
       "      <td>0.0</td>\n",
       "      <td>6.0</td>\n",
       "      <td>2.0</td>\n",
       "      <td>0.127839</td>\n",
       "      <td>0.175699</td>\n",
       "      <td>0.174865</td>\n",
       "      <td>0.204</td>\n",
       "      <td>0.152</td>\n",
       "      <td>0.10600</td>\n",
       "    </tr>\n",
       "    <tr>\n",
       "      <th>2</th>\n",
       "      <td>2019-01-10</td>\n",
       "      <td>1.0</td>\n",
       "      <td>0.0</td>\n",
       "      <td>6.0</td>\n",
       "      <td>2.0</td>\n",
       "      <td>0.127839</td>\n",
       "      <td>0.175699</td>\n",
       "      <td>0.174865</td>\n",
       "      <td>0.213</td>\n",
       "      <td>0.153</td>\n",
       "      <td>0.11100</td>\n",
       "    </tr>\n",
       "    <tr>\n",
       "      <th>3</th>\n",
       "      <td>2019-01-11</td>\n",
       "      <td>1.0</td>\n",
       "      <td>0.0</td>\n",
       "      <td>6.0</td>\n",
       "      <td>2.0</td>\n",
       "      <td>0.127839</td>\n",
       "      <td>0.175699</td>\n",
       "      <td>0.174865</td>\n",
       "      <td>0.213</td>\n",
       "      <td>0.152</td>\n",
       "      <td>0.10800</td>\n",
       "    </tr>\n",
       "    <tr>\n",
       "      <th>4</th>\n",
       "      <td>2019-01-14</td>\n",
       "      <td>1.0</td>\n",
       "      <td>0.0</td>\n",
       "      <td>6.0</td>\n",
       "      <td>2.0</td>\n",
       "      <td>0.127839</td>\n",
       "      <td>0.175699</td>\n",
       "      <td>0.174865</td>\n",
       "      <td>0.210</td>\n",
       "      <td>0.147</td>\n",
       "      <td>0.09600</td>\n",
       "    </tr>\n",
       "    <tr>\n",
       "      <th>...</th>\n",
       "      <td>...</td>\n",
       "      <td>...</td>\n",
       "      <td>...</td>\n",
       "      <td>...</td>\n",
       "      <td>...</td>\n",
       "      <td>...</td>\n",
       "      <td>...</td>\n",
       "      <td>...</td>\n",
       "      <td>...</td>\n",
       "      <td>...</td>\n",
       "      <td>...</td>\n",
       "    </tr>\n",
       "    <tr>\n",
       "      <th>44866</th>\n",
       "      <td>2019-07-03</td>\n",
       "      <td>9.0</td>\n",
       "      <td>10.0</td>\n",
       "      <td>8.0</td>\n",
       "      <td>2.0</td>\n",
       "      <td>0.121000</td>\n",
       "      <td>0.145000</td>\n",
       "      <td>0.157150</td>\n",
       "      <td>0.071</td>\n",
       "      <td>0.095</td>\n",
       "      <td>0.24984</td>\n",
       "    </tr>\n",
       "    <tr>\n",
       "      <th>44867</th>\n",
       "      <td>2019-07-04</td>\n",
       "      <td>9.0</td>\n",
       "      <td>10.0</td>\n",
       "      <td>8.0</td>\n",
       "      <td>2.0</td>\n",
       "      <td>0.144000</td>\n",
       "      <td>0.139000</td>\n",
       "      <td>0.153000</td>\n",
       "      <td>0.079</td>\n",
       "      <td>0.102</td>\n",
       "      <td>0.24984</td>\n",
       "    </tr>\n",
       "    <tr>\n",
       "      <th>44868</th>\n",
       "      <td>2019-07-05</td>\n",
       "      <td>9.0</td>\n",
       "      <td>10.0</td>\n",
       "      <td>8.0</td>\n",
       "      <td>2.0</td>\n",
       "      <td>0.128000</td>\n",
       "      <td>0.137000</td>\n",
       "      <td>0.127000</td>\n",
       "      <td>0.072</td>\n",
       "      <td>0.089</td>\n",
       "      <td>0.24984</td>\n",
       "    </tr>\n",
       "    <tr>\n",
       "      <th>44869</th>\n",
       "      <td>2019-05-28</td>\n",
       "      <td>9.0</td>\n",
       "      <td>10.0</td>\n",
       "      <td>8.0</td>\n",
       "      <td>2.0</td>\n",
       "      <td>0.164000</td>\n",
       "      <td>0.187000</td>\n",
       "      <td>0.155000</td>\n",
       "      <td>0.100</td>\n",
       "      <td>0.130</td>\n",
       "      <td>0.24984</td>\n",
       "    </tr>\n",
       "    <tr>\n",
       "      <th>44870</th>\n",
       "      <td>2019-06-05</td>\n",
       "      <td>9.0</td>\n",
       "      <td>10.0</td>\n",
       "      <td>8.0</td>\n",
       "      <td>2.0</td>\n",
       "      <td>0.146000</td>\n",
       "      <td>0.172000</td>\n",
       "      <td>0.127000</td>\n",
       "      <td>0.080</td>\n",
       "      <td>0.093</td>\n",
       "      <td>0.24984</td>\n",
       "    </tr>\n",
       "  </tbody>\n",
       "</table>\n",
       "<p>44871 rows × 11 columns</p>\n",
       "</div>"
      ],
      "text/plain": [
       "             date  train  station  hour  composition      p1q0      p2q0  \\\n",
       "0      2019-01-07    1.0      0.0   6.0          2.0  0.127839  0.175699   \n",
       "1      2019-01-08    1.0      0.0   6.0          2.0  0.127839  0.175699   \n",
       "2      2019-01-10    1.0      0.0   6.0          2.0  0.127839  0.175699   \n",
       "3      2019-01-11    1.0      0.0   6.0          2.0  0.127839  0.175699   \n",
       "4      2019-01-14    1.0      0.0   6.0          2.0  0.127839  0.175699   \n",
       "...           ...    ...      ...   ...          ...       ...       ...   \n",
       "44866  2019-07-03    9.0     10.0   8.0          2.0  0.121000  0.145000   \n",
       "44867  2019-07-04    9.0     10.0   8.0          2.0  0.144000  0.139000   \n",
       "44868  2019-07-05    9.0     10.0   8.0          2.0  0.128000  0.137000   \n",
       "44869  2019-05-28    9.0     10.0   8.0          2.0  0.164000  0.187000   \n",
       "44870  2019-06-05    9.0     10.0   8.0          2.0  0.146000  0.172000   \n",
       "\n",
       "           p3q0   p0q1   p0q2     p0q3  \n",
       "0      0.174865  0.201  0.138  0.09100  \n",
       "1      0.174865  0.204  0.152  0.10600  \n",
       "2      0.174865  0.213  0.153  0.11100  \n",
       "3      0.174865  0.213  0.152  0.10800  \n",
       "4      0.174865  0.210  0.147  0.09600  \n",
       "...         ...    ...    ...      ...  \n",
       "44866  0.157150  0.071  0.095  0.24984  \n",
       "44867  0.153000  0.079  0.102  0.24984  \n",
       "44868  0.127000  0.072  0.089  0.24984  \n",
       "44869  0.155000  0.100  0.130  0.24984  \n",
       "44870  0.127000  0.080  0.093  0.24984  \n",
       "\n",
       "[44871 rows x 11 columns]"
      ]
     },
     "execution_count": 64,
     "metadata": {},
     "output_type": "execute_result"
    }
   ],
   "source": [
    "X"
   ]
  },
  {
   "cell_type": "code",
   "execution_count": 65,
   "metadata": {},
   "outputs": [],
   "source": [
    "X = X.drop(['date'], axis=1)"
   ]
  },
  {
   "cell_type": "code",
   "execution_count": 66,
   "metadata": {},
   "outputs": [],
   "source": [
    "X = X.drop(['composition'], axis=1)"
   ]
  },
  {
   "cell_type": "code",
   "execution_count": 67,
   "metadata": {},
   "outputs": [
    {
     "data": {
      "text/html": [
       "<div>\n",
       "<style scoped>\n",
       "    .dataframe tbody tr th:only-of-type {\n",
       "        vertical-align: middle;\n",
       "    }\n",
       "\n",
       "    .dataframe tbody tr th {\n",
       "        vertical-align: top;\n",
       "    }\n",
       "\n",
       "    .dataframe thead th {\n",
       "        text-align: right;\n",
       "    }\n",
       "</style>\n",
       "<table border=\"1\" class=\"dataframe\">\n",
       "  <thead>\n",
       "    <tr style=\"text-align: right;\">\n",
       "      <th></th>\n",
       "      <th>train</th>\n",
       "      <th>station</th>\n",
       "      <th>hour</th>\n",
       "      <th>p1q0</th>\n",
       "      <th>p2q0</th>\n",
       "      <th>p3q0</th>\n",
       "      <th>p0q1</th>\n",
       "      <th>p0q2</th>\n",
       "      <th>p0q3</th>\n",
       "    </tr>\n",
       "  </thead>\n",
       "  <tbody>\n",
       "    <tr>\n",
       "      <th>0</th>\n",
       "      <td>1.0</td>\n",
       "      <td>0.0</td>\n",
       "      <td>6.0</td>\n",
       "      <td>0.127839</td>\n",
       "      <td>0.175699</td>\n",
       "      <td>0.174865</td>\n",
       "      <td>0.201</td>\n",
       "      <td>0.138</td>\n",
       "      <td>0.09100</td>\n",
       "    </tr>\n",
       "    <tr>\n",
       "      <th>1</th>\n",
       "      <td>1.0</td>\n",
       "      <td>0.0</td>\n",
       "      <td>6.0</td>\n",
       "      <td>0.127839</td>\n",
       "      <td>0.175699</td>\n",
       "      <td>0.174865</td>\n",
       "      <td>0.204</td>\n",
       "      <td>0.152</td>\n",
       "      <td>0.10600</td>\n",
       "    </tr>\n",
       "    <tr>\n",
       "      <th>2</th>\n",
       "      <td>1.0</td>\n",
       "      <td>0.0</td>\n",
       "      <td>6.0</td>\n",
       "      <td>0.127839</td>\n",
       "      <td>0.175699</td>\n",
       "      <td>0.174865</td>\n",
       "      <td>0.213</td>\n",
       "      <td>0.153</td>\n",
       "      <td>0.11100</td>\n",
       "    </tr>\n",
       "    <tr>\n",
       "      <th>3</th>\n",
       "      <td>1.0</td>\n",
       "      <td>0.0</td>\n",
       "      <td>6.0</td>\n",
       "      <td>0.127839</td>\n",
       "      <td>0.175699</td>\n",
       "      <td>0.174865</td>\n",
       "      <td>0.213</td>\n",
       "      <td>0.152</td>\n",
       "      <td>0.10800</td>\n",
       "    </tr>\n",
       "    <tr>\n",
       "      <th>4</th>\n",
       "      <td>1.0</td>\n",
       "      <td>0.0</td>\n",
       "      <td>6.0</td>\n",
       "      <td>0.127839</td>\n",
       "      <td>0.175699</td>\n",
       "      <td>0.174865</td>\n",
       "      <td>0.210</td>\n",
       "      <td>0.147</td>\n",
       "      <td>0.09600</td>\n",
       "    </tr>\n",
       "    <tr>\n",
       "      <th>...</th>\n",
       "      <td>...</td>\n",
       "      <td>...</td>\n",
       "      <td>...</td>\n",
       "      <td>...</td>\n",
       "      <td>...</td>\n",
       "      <td>...</td>\n",
       "      <td>...</td>\n",
       "      <td>...</td>\n",
       "      <td>...</td>\n",
       "    </tr>\n",
       "    <tr>\n",
       "      <th>44866</th>\n",
       "      <td>9.0</td>\n",
       "      <td>10.0</td>\n",
       "      <td>8.0</td>\n",
       "      <td>0.121000</td>\n",
       "      <td>0.145000</td>\n",
       "      <td>0.157150</td>\n",
       "      <td>0.071</td>\n",
       "      <td>0.095</td>\n",
       "      <td>0.24984</td>\n",
       "    </tr>\n",
       "    <tr>\n",
       "      <th>44867</th>\n",
       "      <td>9.0</td>\n",
       "      <td>10.0</td>\n",
       "      <td>8.0</td>\n",
       "      <td>0.144000</td>\n",
       "      <td>0.139000</td>\n",
       "      <td>0.153000</td>\n",
       "      <td>0.079</td>\n",
       "      <td>0.102</td>\n",
       "      <td>0.24984</td>\n",
       "    </tr>\n",
       "    <tr>\n",
       "      <th>44868</th>\n",
       "      <td>9.0</td>\n",
       "      <td>10.0</td>\n",
       "      <td>8.0</td>\n",
       "      <td>0.128000</td>\n",
       "      <td>0.137000</td>\n",
       "      <td>0.127000</td>\n",
       "      <td>0.072</td>\n",
       "      <td>0.089</td>\n",
       "      <td>0.24984</td>\n",
       "    </tr>\n",
       "    <tr>\n",
       "      <th>44869</th>\n",
       "      <td>9.0</td>\n",
       "      <td>10.0</td>\n",
       "      <td>8.0</td>\n",
       "      <td>0.164000</td>\n",
       "      <td>0.187000</td>\n",
       "      <td>0.155000</td>\n",
       "      <td>0.100</td>\n",
       "      <td>0.130</td>\n",
       "      <td>0.24984</td>\n",
       "    </tr>\n",
       "    <tr>\n",
       "      <th>44870</th>\n",
       "      <td>9.0</td>\n",
       "      <td>10.0</td>\n",
       "      <td>8.0</td>\n",
       "      <td>0.146000</td>\n",
       "      <td>0.172000</td>\n",
       "      <td>0.127000</td>\n",
       "      <td>0.080</td>\n",
       "      <td>0.093</td>\n",
       "      <td>0.24984</td>\n",
       "    </tr>\n",
       "  </tbody>\n",
       "</table>\n",
       "<p>44871 rows × 9 columns</p>\n",
       "</div>"
      ],
      "text/plain": [
       "       train  station  hour      p1q0      p2q0      p3q0   p0q1   p0q2  \\\n",
       "0        1.0      0.0   6.0  0.127839  0.175699  0.174865  0.201  0.138   \n",
       "1        1.0      0.0   6.0  0.127839  0.175699  0.174865  0.204  0.152   \n",
       "2        1.0      0.0   6.0  0.127839  0.175699  0.174865  0.213  0.153   \n",
       "3        1.0      0.0   6.0  0.127839  0.175699  0.174865  0.213  0.152   \n",
       "4        1.0      0.0   6.0  0.127839  0.175699  0.174865  0.210  0.147   \n",
       "...      ...      ...   ...       ...       ...       ...    ...    ...   \n",
       "44866    9.0     10.0   8.0  0.121000  0.145000  0.157150  0.071  0.095   \n",
       "44867    9.0     10.0   8.0  0.144000  0.139000  0.153000  0.079  0.102   \n",
       "44868    9.0     10.0   8.0  0.128000  0.137000  0.127000  0.072  0.089   \n",
       "44869    9.0     10.0   8.0  0.164000  0.187000  0.155000  0.100  0.130   \n",
       "44870    9.0     10.0   8.0  0.146000  0.172000  0.127000  0.080  0.093   \n",
       "\n",
       "          p0q3  \n",
       "0      0.09100  \n",
       "1      0.10600  \n",
       "2      0.11100  \n",
       "3      0.10800  \n",
       "4      0.09600  \n",
       "...        ...  \n",
       "44866  0.24984  \n",
       "44867  0.24984  \n",
       "44868  0.24984  \n",
       "44869  0.24984  \n",
       "44870  0.24984  \n",
       "\n",
       "[44871 rows x 9 columns]"
      ]
     },
     "execution_count": 67,
     "metadata": {},
     "output_type": "execute_result"
    }
   ],
   "source": [
    "X"
   ]
  },
  {
   "cell_type": "code",
   "execution_count": 68,
   "metadata": {},
   "outputs": [],
   "source": [
    "X_train = X.head(31119)\n",
    "X_test = X.tail(len(X) - 31119)"
   ]
  },
  {
   "cell_type": "code",
   "execution_count": 69,
   "metadata": {},
   "outputs": [
    {
     "data": {
      "text/html": [
       "<div>\n",
       "<style scoped>\n",
       "    .dataframe tbody tr th:only-of-type {\n",
       "        vertical-align: middle;\n",
       "    }\n",
       "\n",
       "    .dataframe tbody tr th {\n",
       "        vertical-align: top;\n",
       "    }\n",
       "\n",
       "    .dataframe thead th {\n",
       "        text-align: right;\n",
       "    }\n",
       "</style>\n",
       "<table border=\"1\" class=\"dataframe\">\n",
       "  <thead>\n",
       "    <tr style=\"text-align: right;\">\n",
       "      <th></th>\n",
       "      <th>train</th>\n",
       "      <th>station</th>\n",
       "      <th>hour</th>\n",
       "      <th>p1q0</th>\n",
       "      <th>p2q0</th>\n",
       "      <th>p3q0</th>\n",
       "      <th>p0q1</th>\n",
       "      <th>p0q2</th>\n",
       "      <th>p0q3</th>\n",
       "    </tr>\n",
       "  </thead>\n",
       "  <tbody>\n",
       "    <tr>\n",
       "      <th>0</th>\n",
       "      <td>1.0</td>\n",
       "      <td>0.0</td>\n",
       "      <td>6.0</td>\n",
       "      <td>0.127839</td>\n",
       "      <td>0.175699</td>\n",
       "      <td>0.174865</td>\n",
       "      <td>0.226</td>\n",
       "      <td>0.165</td>\n",
       "      <td>0.12800</td>\n",
       "    </tr>\n",
       "    <tr>\n",
       "      <th>1</th>\n",
       "      <td>1.0</td>\n",
       "      <td>0.0</td>\n",
       "      <td>6.0</td>\n",
       "      <td>0.127839</td>\n",
       "      <td>0.175699</td>\n",
       "      <td>0.174865</td>\n",
       "      <td>0.221</td>\n",
       "      <td>0.159</td>\n",
       "      <td>0.11400</td>\n",
       "    </tr>\n",
       "    <tr>\n",
       "      <th>2</th>\n",
       "      <td>1.0</td>\n",
       "      <td>0.0</td>\n",
       "      <td>6.0</td>\n",
       "      <td>0.127839</td>\n",
       "      <td>0.175699</td>\n",
       "      <td>0.174865</td>\n",
       "      <td>0.227</td>\n",
       "      <td>0.175</td>\n",
       "      <td>0.13300</td>\n",
       "    </tr>\n",
       "    <tr>\n",
       "      <th>3</th>\n",
       "      <td>1.0</td>\n",
       "      <td>0.0</td>\n",
       "      <td>6.0</td>\n",
       "      <td>0.127839</td>\n",
       "      <td>0.175699</td>\n",
       "      <td>0.174865</td>\n",
       "      <td>0.200</td>\n",
       "      <td>0.148</td>\n",
       "      <td>0.10500</td>\n",
       "    </tr>\n",
       "    <tr>\n",
       "      <th>4</th>\n",
       "      <td>1.0</td>\n",
       "      <td>0.0</td>\n",
       "      <td>6.0</td>\n",
       "      <td>0.127839</td>\n",
       "      <td>0.175699</td>\n",
       "      <td>0.174865</td>\n",
       "      <td>0.221</td>\n",
       "      <td>0.169</td>\n",
       "      <td>0.12600</td>\n",
       "    </tr>\n",
       "    <tr>\n",
       "      <th>...</th>\n",
       "      <td>...</td>\n",
       "      <td>...</td>\n",
       "      <td>...</td>\n",
       "      <td>...</td>\n",
       "      <td>...</td>\n",
       "      <td>...</td>\n",
       "      <td>...</td>\n",
       "      <td>...</td>\n",
       "      <td>...</td>\n",
       "    </tr>\n",
       "    <tr>\n",
       "      <th>13747</th>\n",
       "      <td>9.0</td>\n",
       "      <td>10.0</td>\n",
       "      <td>8.0</td>\n",
       "      <td>0.121000</td>\n",
       "      <td>0.145000</td>\n",
       "      <td>0.157150</td>\n",
       "      <td>0.071</td>\n",
       "      <td>0.095</td>\n",
       "      <td>0.24984</td>\n",
       "    </tr>\n",
       "    <tr>\n",
       "      <th>13748</th>\n",
       "      <td>9.0</td>\n",
       "      <td>10.0</td>\n",
       "      <td>8.0</td>\n",
       "      <td>0.144000</td>\n",
       "      <td>0.139000</td>\n",
       "      <td>0.153000</td>\n",
       "      <td>0.079</td>\n",
       "      <td>0.102</td>\n",
       "      <td>0.24984</td>\n",
       "    </tr>\n",
       "    <tr>\n",
       "      <th>13749</th>\n",
       "      <td>9.0</td>\n",
       "      <td>10.0</td>\n",
       "      <td>8.0</td>\n",
       "      <td>0.128000</td>\n",
       "      <td>0.137000</td>\n",
       "      <td>0.127000</td>\n",
       "      <td>0.072</td>\n",
       "      <td>0.089</td>\n",
       "      <td>0.24984</td>\n",
       "    </tr>\n",
       "    <tr>\n",
       "      <th>13750</th>\n",
       "      <td>9.0</td>\n",
       "      <td>10.0</td>\n",
       "      <td>8.0</td>\n",
       "      <td>0.164000</td>\n",
       "      <td>0.187000</td>\n",
       "      <td>0.155000</td>\n",
       "      <td>0.100</td>\n",
       "      <td>0.130</td>\n",
       "      <td>0.24984</td>\n",
       "    </tr>\n",
       "    <tr>\n",
       "      <th>13751</th>\n",
       "      <td>9.0</td>\n",
       "      <td>10.0</td>\n",
       "      <td>8.0</td>\n",
       "      <td>0.146000</td>\n",
       "      <td>0.172000</td>\n",
       "      <td>0.127000</td>\n",
       "      <td>0.080</td>\n",
       "      <td>0.093</td>\n",
       "      <td>0.24984</td>\n",
       "    </tr>\n",
       "  </tbody>\n",
       "</table>\n",
       "<p>13752 rows × 9 columns</p>\n",
       "</div>"
      ],
      "text/plain": [
       "       train  station  hour      p1q0      p2q0      p3q0   p0q1   p0q2  \\\n",
       "0        1.0      0.0   6.0  0.127839  0.175699  0.174865  0.226  0.165   \n",
       "1        1.0      0.0   6.0  0.127839  0.175699  0.174865  0.221  0.159   \n",
       "2        1.0      0.0   6.0  0.127839  0.175699  0.174865  0.227  0.175   \n",
       "3        1.0      0.0   6.0  0.127839  0.175699  0.174865  0.200  0.148   \n",
       "4        1.0      0.0   6.0  0.127839  0.175699  0.174865  0.221  0.169   \n",
       "...      ...      ...   ...       ...       ...       ...    ...    ...   \n",
       "13747    9.0     10.0   8.0  0.121000  0.145000  0.157150  0.071  0.095   \n",
       "13748    9.0     10.0   8.0  0.144000  0.139000  0.153000  0.079  0.102   \n",
       "13749    9.0     10.0   8.0  0.128000  0.137000  0.127000  0.072  0.089   \n",
       "13750    9.0     10.0   8.0  0.164000  0.187000  0.155000  0.100  0.130   \n",
       "13751    9.0     10.0   8.0  0.146000  0.172000  0.127000  0.080  0.093   \n",
       "\n",
       "          p0q3  \n",
       "0      0.12800  \n",
       "1      0.11400  \n",
       "2      0.13300  \n",
       "3      0.10500  \n",
       "4      0.12600  \n",
       "...        ...  \n",
       "13747  0.24984  \n",
       "13748  0.24984  \n",
       "13749  0.24984  \n",
       "13750  0.24984  \n",
       "13751  0.24984  \n",
       "\n",
       "[13752 rows x 9 columns]"
      ]
     },
     "execution_count": 69,
     "metadata": {},
     "output_type": "execute_result"
    }
   ],
   "source": [
    "X_test.reset_index(drop=True, inplace=True)\n",
    "X_test"
   ]
  },
  {
   "cell_type": "code",
   "execution_count": 70,
   "metadata": {},
   "outputs": [
    {
     "data": {
      "text/html": [
       "<div>\n",
       "<style scoped>\n",
       "    .dataframe tbody tr th:only-of-type {\n",
       "        vertical-align: middle;\n",
       "    }\n",
       "\n",
       "    .dataframe tbody tr th {\n",
       "        vertical-align: top;\n",
       "    }\n",
       "\n",
       "    .dataframe thead th {\n",
       "        text-align: right;\n",
       "    }\n",
       "</style>\n",
       "<table border=\"1\" class=\"dataframe\">\n",
       "  <thead>\n",
       "    <tr style=\"text-align: right;\">\n",
       "      <th></th>\n",
       "      <th>p0q0</th>\n",
       "    </tr>\n",
       "  </thead>\n",
       "  <tbody>\n",
       "    <tr>\n",
       "      <th>0</th>\n",
       "      <td>0.216</td>\n",
       "    </tr>\n",
       "    <tr>\n",
       "      <th>1</th>\n",
       "      <td>0.216</td>\n",
       "    </tr>\n",
       "    <tr>\n",
       "      <th>2</th>\n",
       "      <td>0.227</td>\n",
       "    </tr>\n",
       "    <tr>\n",
       "      <th>3</th>\n",
       "      <td>0.229</td>\n",
       "    </tr>\n",
       "    <tr>\n",
       "      <th>4</th>\n",
       "      <td>0.225</td>\n",
       "    </tr>\n",
       "    <tr>\n",
       "      <th>...</th>\n",
       "      <td>...</td>\n",
       "    </tr>\n",
       "    <tr>\n",
       "      <th>31114</th>\n",
       "      <td>0.111</td>\n",
       "    </tr>\n",
       "    <tr>\n",
       "      <th>31115</th>\n",
       "      <td>0.143</td>\n",
       "    </tr>\n",
       "    <tr>\n",
       "      <th>31116</th>\n",
       "      <td>0.139</td>\n",
       "    </tr>\n",
       "    <tr>\n",
       "      <th>31117</th>\n",
       "      <td>0.117</td>\n",
       "    </tr>\n",
       "    <tr>\n",
       "      <th>31118</th>\n",
       "      <td>0.416</td>\n",
       "    </tr>\n",
       "  </tbody>\n",
       "</table>\n",
       "<p>31119 rows × 1 columns</p>\n",
       "</div>"
      ],
      "text/plain": [
       "        p0q0\n",
       "0      0.216\n",
       "1      0.216\n",
       "2      0.227\n",
       "3      0.229\n",
       "4      0.225\n",
       "...      ...\n",
       "31114  0.111\n",
       "31115  0.143\n",
       "31116  0.139\n",
       "31117  0.117\n",
       "31118  0.416\n",
       "\n",
       "[31119 rows x 1 columns]"
      ]
     },
     "execution_count": 70,
     "metadata": {},
     "output_type": "execute_result"
    }
   ],
   "source": [
    "y"
   ]
  },
  {
   "cell_type": "markdown",
   "metadata": {},
   "source": [
    "# Training Model : "
   ]
  },
  {
   "cell_type": "code",
   "execution_count": 71,
   "metadata": {},
   "outputs": [],
   "source": [
    "X_test = X_test.astype(np.float32)\n",
    "X_train = X_train.astype(np.float32)\n",
    "y = y.astype(np.float32)"
   ]
  },
  {
   "cell_type": "code",
   "execution_count": 72,
   "metadata": {},
   "outputs": [
    {
     "data": {
      "text/html": [
       "<div>\n",
       "<style scoped>\n",
       "    .dataframe tbody tr th:only-of-type {\n",
       "        vertical-align: middle;\n",
       "    }\n",
       "\n",
       "    .dataframe tbody tr th {\n",
       "        vertical-align: top;\n",
       "    }\n",
       "\n",
       "    .dataframe thead th {\n",
       "        text-align: right;\n",
       "    }\n",
       "</style>\n",
       "<table border=\"1\" class=\"dataframe\">\n",
       "  <thead>\n",
       "    <tr style=\"text-align: right;\">\n",
       "      <th></th>\n",
       "      <th>p0q0</th>\n",
       "    </tr>\n",
       "  </thead>\n",
       "  <tbody>\n",
       "    <tr>\n",
       "      <th>0</th>\n",
       "      <td>0.216</td>\n",
       "    </tr>\n",
       "    <tr>\n",
       "      <th>1</th>\n",
       "      <td>0.216</td>\n",
       "    </tr>\n",
       "    <tr>\n",
       "      <th>2</th>\n",
       "      <td>0.227</td>\n",
       "    </tr>\n",
       "    <tr>\n",
       "      <th>3</th>\n",
       "      <td>0.229</td>\n",
       "    </tr>\n",
       "    <tr>\n",
       "      <th>4</th>\n",
       "      <td>0.225</td>\n",
       "    </tr>\n",
       "    <tr>\n",
       "      <th>...</th>\n",
       "      <td>...</td>\n",
       "    </tr>\n",
       "    <tr>\n",
       "      <th>31114</th>\n",
       "      <td>0.111</td>\n",
       "    </tr>\n",
       "    <tr>\n",
       "      <th>31115</th>\n",
       "      <td>0.143</td>\n",
       "    </tr>\n",
       "    <tr>\n",
       "      <th>31116</th>\n",
       "      <td>0.139</td>\n",
       "    </tr>\n",
       "    <tr>\n",
       "      <th>31117</th>\n",
       "      <td>0.117</td>\n",
       "    </tr>\n",
       "    <tr>\n",
       "      <th>31118</th>\n",
       "      <td>0.416</td>\n",
       "    </tr>\n",
       "  </tbody>\n",
       "</table>\n",
       "<p>31119 rows × 1 columns</p>\n",
       "</div>"
      ],
      "text/plain": [
       "        p0q0\n",
       "0      0.216\n",
       "1      0.216\n",
       "2      0.227\n",
       "3      0.229\n",
       "4      0.225\n",
       "...      ...\n",
       "31114  0.111\n",
       "31115  0.143\n",
       "31116  0.139\n",
       "31117  0.117\n",
       "31118  0.416\n",
       "\n",
       "[31119 rows x 1 columns]"
      ]
     },
     "execution_count": 72,
     "metadata": {},
     "output_type": "execute_result"
    }
   ],
   "source": [
    "y"
   ]
  },
  {
   "cell_type": "code",
   "execution_count": 73,
   "metadata": {},
   "outputs": [],
   "source": [
    "X_train = torch.from_numpy(X_train.values)\n",
    "X_test = torch.from_numpy(X_test.values)\n",
    "y = torch.from_numpy(y.values).reshape(-1,1)"
   ]
  },
  {
   "cell_type": "code",
   "execution_count": 74,
   "metadata": {},
   "outputs": [
    {
     "name": "stdout",
     "output_type": "stream",
     "text": [
      "X_train.shape: torch.Size([31119, 9])\n",
      "x_test.shape: torch.Size([13752, 9])\n",
      "Y_train.shape: torch.Size([31119, 1])\n"
     ]
    }
   ],
   "source": [
    "print(\"X_train.shape:\",X_train.shape)\n",
    "print(\"x_test.shape:\",X_test.shape)\n",
    "print(\"Y_train.shape:\",y.shape)"
   ]
  },
  {
   "cell_type": "code",
   "execution_count": 75,
   "metadata": {},
   "outputs": [
    {
     "data": {
      "text/plain": [
       "tensor([[0.2160],\n",
       "        [0.2160],\n",
       "        [0.2270],\n",
       "        ...,\n",
       "        [0.1390],\n",
       "        [0.1170],\n",
       "        [0.4160]])"
      ]
     },
     "execution_count": 75,
     "metadata": {},
     "output_type": "execute_result"
    }
   ],
   "source": [
    "y"
   ]
  },
  {
   "cell_type": "code",
   "execution_count": 86,
   "metadata": {},
   "outputs": [],
   "source": [
    "from TF import evaluate_model, train_network"
   ]
  },
  {
   "cell_type": "code",
   "execution_count": 87,
   "metadata": {},
   "outputs": [],
   "source": [
    "import torch.nn as nn"
   ]
  },
  {
   "cell_type": "code",
   "execution_count": 88,
   "metadata": {},
   "outputs": [],
   "source": [
    "class LinearR(nn.Module):\n",
    "    def __init__(self, input_size, output_size):\n",
    "        super(LinearR, self).__init__()\n",
    "        self.linear = nn.Linear(input_size, output_size)\n",
    "        self.sigmoid = nn.Sigmoid() \n",
    "\n",
    "    def forward(self, x):\n",
    "        out = self.linear(x)\n",
    "        out = self.sigmoid(out)\n",
    "        return out"
   ]
  },
  {
   "cell_type": "code",
   "execution_count": 89,
   "metadata": {},
   "outputs": [],
   "source": [
    "import torch\n",
    "import numpy as np, pandas as pd\n",
    "from sklearn.metrics import confusion_matrix, accuracy_score\n",
    "from sklearn.metrics import precision_score, recall_score,roc_curve, auc, roc_auc_score\n",
    "from sklearn.model_selection import train_test_split\n",
    "from sklearn.utils import shuffle\n",
    "import matplotlib.pyplot as plt"
   ]
  },
  {
   "cell_type": "code",
   "execution_count": 90,
   "metadata": {},
   "outputs": [],
   "source": [
    "num_epochs = 500\n",
    "batch_size = 128\n",
    "loss_function = nn.BCELoss()"
   ]
  },
  {
   "cell_type": "code",
   "execution_count": 91,
   "metadata": {},
   "outputs": [],
   "source": [
    "weight_decay = 0.0 #set to 0; no L2 Regularizer; passed into the Optimizer\n",
    "lambda_L1=0.0 #Set to 0; no L1 reg; manually added in loss (train_network)"
   ]
  },
  {
   "cell_type": "code",
   "execution_count": 92,
   "metadata": {},
   "outputs": [],
   "source": [
    "model = LinearR(9, 1)"
   ]
  },
  {
   "cell_type": "code",
   "execution_count": 93,
   "metadata": {},
   "outputs": [],
   "source": [
    "adam_optimizer = torch.optim.Adam(model.parameters(), lr= 0.001, weight_decay=weight_decay)"
   ]
  },
  {
   "cell_type": "code",
   "execution_count": 94,
   "metadata": {},
   "outputs": [
    {
     "name": "stdout",
     "output_type": "stream",
     "text": [
      "Epoch: 0 - Loss:0.7428\n",
      "Epoch: 10 - Loss:0.5282\n",
      "Epoch: 20 - Loss:0.5160\n",
      "Epoch: 30 - Loss:0.5127\n",
      "Epoch: 40 - Loss:0.5119\n",
      "Epoch: 50 - Loss:0.5115\n",
      "Epoch: 60 - Loss:0.5113\n",
      "Epoch: 70 - Loss:0.5110\n",
      "Epoch: 80 - Loss:0.5109\n",
      "Epoch: 90 - Loss:0.5107\n",
      "Epoch: 100 - Loss:0.5106\n",
      "Epoch: 110 - Loss:0.5105\n",
      "Epoch: 120 - Loss:0.5104\n",
      "Epoch: 130 - Loss:0.5104\n",
      "Epoch: 140 - Loss:0.5103\n",
      "Epoch: 150 - Loss:0.5103\n",
      "Epoch: 160 - Loss:0.5102\n",
      "Epoch: 170 - Loss:0.5102\n",
      "Epoch: 180 - Loss:0.5102\n",
      "Epoch: 190 - Loss:0.5102\n",
      "Epoch: 200 - Loss:0.5101\n",
      "Epoch: 210 - Loss:0.5101\n",
      "Epoch: 220 - Loss:0.5101\n",
      "Epoch: 230 - Loss:0.5101\n",
      "Epoch: 240 - Loss:0.5101\n",
      "Epoch: 250 - Loss:0.5101\n",
      "Epoch: 260 - Loss:0.5101\n",
      "Epoch: 270 - Loss:0.5101\n",
      "Epoch: 280 - Loss:0.5101\n",
      "Epoch: 290 - Loss:0.5101\n",
      "Epoch: 300 - Loss:0.5100\n",
      "Epoch: 310 - Loss:0.5100\n",
      "Epoch: 320 - Loss:0.5100\n",
      "Epoch: 330 - Loss:0.5100\n",
      "Epoch: 340 - Loss:0.5100\n",
      "Epoch: 350 - Loss:0.5100\n",
      "Epoch: 360 - Loss:0.5100\n",
      "Epoch: 370 - Loss:0.5100\n",
      "Epoch: 380 - Loss:0.5100\n",
      "Epoch: 390 - Loss:0.5100\n",
      "Epoch: 400 - Loss:0.5100\n",
      "Epoch: 410 - Loss:0.5100\n",
      "Epoch: 420 - Loss:0.5100\n",
      "Epoch: 430 - Loss:0.5100\n",
      "Epoch: 440 - Loss:0.5100\n",
      "Epoch: 450 - Loss:0.5100\n",
      "Epoch: 460 - Loss:0.5100\n",
      "Epoch: 470 - Loss:0.5100\n",
      "Epoch: 480 - Loss:0.5100\n",
      "Epoch: 490 - Loss:0.5100\n"
     ]
    }
   ],
   "source": [
    "adam_loss = train_network(model, adam_optimizer, loss_function ,num_epochs,batch_size, X_train,y,lambda_L1=0.0)"
   ]
  },
  {
   "cell_type": "code",
   "execution_count": 95,
   "metadata": {},
   "outputs": [
    {
     "name": "stdout",
     "output_type": "stream",
     "text": [
      "tensor([[0.2339],\n",
      "        [0.2294],\n",
      "        [0.2356],\n",
      "        ...,\n",
      "        [0.1162],\n",
      "        [0.1351],\n",
      "        [0.1214]])\n"
     ]
    }
   ],
   "source": [
    "with torch.no_grad():\n",
    "    predictions = model(X_test)\n",
    "\n",
    "print(predictions)"
   ]
  },
  {
   "cell_type": "code",
   "execution_count": 96,
   "metadata": {},
   "outputs": [],
   "source": [
    "predictions_df = pd.DataFrame({'Predictions': predictions.numpy().flatten()})\n",
    "predictions_df.index = predictions_df.index + 1\n",
    "predictions_df.to_csv('predictions_for_torch_model.csv', index=True)"
   ]
  }
 ],
 "metadata": {
  "kernelspec": {
   "display_name": "base",
   "language": "python",
   "name": "python3"
  },
  "language_info": {
   "codemirror_mode": {
    "name": "ipython",
    "version": 3
   },
   "file_extension": ".py",
   "mimetype": "text/x-python",
   "name": "python",
   "nbconvert_exporter": "python",
   "pygments_lexer": "ipython3",
   "version": "3.11.5"
  }
 },
 "nbformat": 4,
 "nbformat_minor": 2
}
